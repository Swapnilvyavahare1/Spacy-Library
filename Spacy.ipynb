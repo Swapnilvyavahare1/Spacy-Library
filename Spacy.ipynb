{
  "cells": [
    {
      "cell_type": "code",
      "execution_count": null,
      "id": "f571a28b",
      "metadata": {
        "id": "f571a28b",
        "outputId": "e65043e6-99cb-461e-a92c-271ca525fd1a"
      },
      "outputs": [
        {
          "name": "stdout",
          "output_type": "stream",
          "text": [
            "Requirement already satisfied: spacy in c:\\users\\lenovo\\anaconda3\\lib\\site-packages (3.5.1)\n",
            "Requirement already satisfied: smart-open<7.0.0,>=5.2.1 in c:\\users\\lenovo\\anaconda3\\lib\\site-packages (from spacy) (5.2.1)\n",
            "Requirement already satisfied: numpy>=1.15.0 in c:\\users\\lenovo\\anaconda3\\lib\\site-packages (from spacy) (1.23.5)\n",
            "Requirement already satisfied: tqdm<5.0.0,>=4.38.0 in c:\\users\\lenovo\\anaconda3\\lib\\site-packages (from spacy) (4.64.1)\n",
            "Requirement already satisfied: thinc<8.2.0,>=8.1.8 in c:\\users\\lenovo\\anaconda3\\lib\\site-packages (from spacy) (8.1.9)\n",
            "Requirement already satisfied: spacy-legacy<3.1.0,>=3.0.11 in c:\\users\\lenovo\\anaconda3\\lib\\site-packages (from spacy) (3.0.11)\n",
            "Requirement already satisfied: typer<0.8.0,>=0.3.0 in c:\\users\\lenovo\\anaconda3\\lib\\site-packages (from spacy) (0.7.0)\n",
            "Requirement already satisfied: preshed<3.1.0,>=3.0.2 in c:\\users\\lenovo\\anaconda3\\lib\\site-packages (from spacy) (3.0.8)\n",
            "Requirement already satisfied: catalogue<2.1.0,>=2.0.6 in c:\\users\\lenovo\\anaconda3\\lib\\site-packages (from spacy) (2.0.8)\n",
            "Requirement already satisfied: spacy-loggers<2.0.0,>=1.0.0 in c:\\users\\lenovo\\anaconda3\\lib\\site-packages (from spacy) (1.0.3)\n",
            "Requirement already satisfied: wasabi<1.2.0,>=0.9.1 in c:\\users\\lenovo\\anaconda3\\lib\\site-packages (from spacy) (0.10.1)\n",
            "Requirement already satisfied: setuptools in c:\\users\\lenovo\\anaconda3\\lib\\site-packages (from spacy) (63.4.1)\n",
            "Requirement already satisfied: requests<3.0.0,>=2.13.0 in c:\\users\\lenovo\\anaconda3\\lib\\site-packages (from spacy) (2.28.1)\n",
            "Requirement already satisfied: murmurhash<1.1.0,>=0.28.0 in c:\\users\\lenovo\\anaconda3\\lib\\site-packages (from spacy) (1.0.9)\n",
            "Requirement already satisfied: cymem<2.1.0,>=2.0.2 in c:\\users\\lenovo\\anaconda3\\lib\\site-packages (from spacy) (2.0.7)\n",
            "Requirement already satisfied: langcodes<4.0.0,>=3.2.0 in c:\\users\\lenovo\\anaconda3\\lib\\site-packages (from spacy) (3.3.0)\n",
            "Requirement already satisfied: pydantic!=1.8,!=1.8.1,<1.11.0,>=1.7.4 in c:\\users\\lenovo\\anaconda3\\lib\\site-packages (from spacy) (1.10.2)\n",
            "Requirement already satisfied: pathy>=0.10.0 in c:\\users\\lenovo\\anaconda3\\lib\\site-packages (from spacy) (0.10.1)\n",
            "Requirement already satisfied: srsly<3.0.0,>=2.4.3 in c:\\users\\lenovo\\anaconda3\\lib\\site-packages (from spacy) (2.4.5)\n",
            "Requirement already satisfied: packaging>=20.0 in c:\\users\\lenovo\\anaconda3\\lib\\site-packages (from spacy) (21.3)\n",
            "Requirement already satisfied: jinja2 in c:\\users\\lenovo\\anaconda3\\lib\\site-packages (from spacy) (3.0.3)\n",
            "Requirement already satisfied: pyparsing!=3.0.5,>=2.0.2 in c:\\users\\lenovo\\anaconda3\\lib\\site-packages (from packaging>=20.0->spacy) (3.0.9)\n",
            "Requirement already satisfied: typing-extensions>=4.1.0 in c:\\users\\lenovo\\anaconda3\\lib\\site-packages (from pydantic!=1.8,!=1.8.1,<1.11.0,>=1.7.4->spacy) (4.4.0)\n",
            "Requirement already satisfied: idna<4,>=2.5 in c:\\users\\lenovo\\anaconda3\\lib\\site-packages (from requests<3.0.0,>=2.13.0->spacy) (3.3)\n",
            "Requirement already satisfied: urllib3<1.27,>=1.21.1 in c:\\users\\lenovo\\anaconda3\\lib\\site-packages (from requests<3.0.0,>=2.13.0->spacy) (1.26.11)\n",
            "Requirement already satisfied: charset-normalizer<3,>=2 in c:\\users\\lenovo\\anaconda3\\lib\\site-packages (from requests<3.0.0,>=2.13.0->spacy) (2.0.4)\n",
            "Requirement already satisfied: certifi>=2017.4.17 in c:\\users\\lenovo\\anaconda3\\lib\\site-packages (from requests<3.0.0,>=2.13.0->spacy) (2022.9.14)\n",
            "Requirement already satisfied: confection<1.0.0,>=0.0.1 in c:\\users\\lenovo\\anaconda3\\lib\\site-packages (from thinc<8.2.0,>=8.1.8->spacy) (0.0.3)\n",
            "Requirement already satisfied: blis<0.8.0,>=0.7.8 in c:\\users\\lenovo\\anaconda3\\lib\\site-packages (from thinc<8.2.0,>=8.1.8->spacy) (0.7.9)\n",
            "Requirement already satisfied: colorama in c:\\users\\lenovo\\anaconda3\\lib\\site-packages (from tqdm<5.0.0,>=4.38.0->spacy) (0.4.5)\n",
            "Requirement already satisfied: click<9.0.0,>=7.1.1 in c:\\users\\lenovo\\anaconda3\\lib\\site-packages (from typer<0.8.0,>=0.3.0->spacy) (8.0.4)\n",
            "Requirement already satisfied: MarkupSafe>=2.0 in c:\\users\\lenovo\\anaconda3\\lib\\site-packages (from jinja2->spacy) (2.1.2)\n",
            "Collecting en-core-web-sm==3.5.0\n",
            "  Downloading https://github.com/explosion/spacy-models/releases/download/en_core_web_sm-3.5.0/en_core_web_sm-3.5.0-py3-none-any.whl (12.8 MB)\n",
            "     ---------------------------------------- 12.8/12.8 MB 6.1 MB/s eta 0:00:00\n",
            "Requirement already satisfied: spacy<3.6.0,>=3.5.0 in c:\\users\\lenovo\\anaconda3\\lib\\site-packages (from en-core-web-sm==3.5.0) (3.5.1)\n",
            "Requirement already satisfied: jinja2 in c:\\users\\lenovo\\anaconda3\\lib\\site-packages (from spacy<3.6.0,>=3.5.0->en-core-web-sm==3.5.0) (3.0.3)\n",
            "Requirement already satisfied: numpy>=1.15.0 in c:\\users\\lenovo\\anaconda3\\lib\\site-packages (from spacy<3.6.0,>=3.5.0->en-core-web-sm==3.5.0) (1.23.5)\n",
            "Requirement already satisfied: packaging>=20.0 in c:\\users\\lenovo\\anaconda3\\lib\\site-packages (from spacy<3.6.0,>=3.5.0->en-core-web-sm==3.5.0) (21.3)\n",
            "Requirement already satisfied: typer<0.8.0,>=0.3.0 in c:\\users\\lenovo\\anaconda3\\lib\\site-packages (from spacy<3.6.0,>=3.5.0->en-core-web-sm==3.5.0) (0.7.0)\n",
            "Requirement already satisfied: cymem<2.1.0,>=2.0.2 in c:\\users\\lenovo\\anaconda3\\lib\\site-packages (from spacy<3.6.0,>=3.5.0->en-core-web-sm==3.5.0) (2.0.7)\n",
            "Requirement already satisfied: setuptools in c:\\users\\lenovo\\anaconda3\\lib\\site-packages (from spacy<3.6.0,>=3.5.0->en-core-web-sm==3.5.0) (63.4.1)\n",
            "Requirement already satisfied: langcodes<4.0.0,>=3.2.0 in c:\\users\\lenovo\\anaconda3\\lib\\site-packages (from spacy<3.6.0,>=3.5.0->en-core-web-sm==3.5.0) (3.3.0)\n",
            "Requirement already satisfied: catalogue<2.1.0,>=2.0.6 in c:\\users\\lenovo\\anaconda3\\lib\\site-packages (from spacy<3.6.0,>=3.5.0->en-core-web-sm==3.5.0) (2.0.8)\n",
            "Requirement already satisfied: requests<3.0.0,>=2.13.0 in c:\\users\\lenovo\\anaconda3\\lib\\site-packages (from spacy<3.6.0,>=3.5.0->en-core-web-sm==3.5.0) (2.28.1)\n",
            "Requirement already satisfied: spacy-legacy<3.1.0,>=3.0.11 in c:\\users\\lenovo\\anaconda3\\lib\\site-packages (from spacy<3.6.0,>=3.5.0->en-core-web-sm==3.5.0) (3.0.11)\n",
            "Requirement already satisfied: srsly<3.0.0,>=2.4.3 in c:\\users\\lenovo\\anaconda3\\lib\\site-packages (from spacy<3.6.0,>=3.5.0->en-core-web-sm==3.5.0) (2.4.5)\n",
            "Requirement already satisfied: tqdm<5.0.0,>=4.38.0 in c:\\users\\lenovo\\anaconda3\\lib\\site-packages (from spacy<3.6.0,>=3.5.0->en-core-web-sm==3.5.0) (4.64.1)\n",
            "Requirement already satisfied: preshed<3.1.0,>=3.0.2 in c:\\users\\lenovo\\anaconda3\\lib\\site-packages (from spacy<3.6.0,>=3.5.0->en-core-web-sm==3.5.0) (3.0.8)\n",
            "Requirement already satisfied: wasabi<1.2.0,>=0.9.1 in c:\\users\\lenovo\\anaconda3\\lib\\site-packages (from spacy<3.6.0,>=3.5.0->en-core-web-sm==3.5.0) (0.10.1)\n",
            "Requirement already satisfied: pydantic!=1.8,!=1.8.1,<1.11.0,>=1.7.4 in c:\\users\\lenovo\\anaconda3\\lib\\site-packages (from spacy<3.6.0,>=3.5.0->en-core-web-sm==3.5.0) (1.10.2)\n",
            "Requirement already satisfied: thinc<8.2.0,>=8.1.8 in c:\\users\\lenovo\\anaconda3\\lib\\site-packages (from spacy<3.6.0,>=3.5.0->en-core-web-sm==3.5.0) (8.1.9)\n",
            "Requirement already satisfied: murmurhash<1.1.0,>=0.28.0 in c:\\users\\lenovo\\anaconda3\\lib\\site-packages (from spacy<3.6.0,>=3.5.0->en-core-web-sm==3.5.0) (1.0.9)\n",
            "Requirement already satisfied: pathy>=0.10.0 in c:\\users\\lenovo\\anaconda3\\lib\\site-packages (from spacy<3.6.0,>=3.5.0->en-core-web-sm==3.5.0) (0.10.1)\n",
            "Requirement already satisfied: smart-open<7.0.0,>=5.2.1 in c:\\users\\lenovo\\anaconda3\\lib\\site-packages (from spacy<3.6.0,>=3.5.0->en-core-web-sm==3.5.0) (5.2.1)\n",
            "Requirement already satisfied: spacy-loggers<2.0.0,>=1.0.0 in c:\\users\\lenovo\\anaconda3\\lib\\site-packages (from spacy<3.6.0,>=3.5.0->en-core-web-sm==3.5.0) (1.0.3)\n",
            "Requirement already satisfied: pyparsing!=3.0.5,>=2.0.2 in c:\\users\\lenovo\\anaconda3\\lib\\site-packages (from packaging>=20.0->spacy<3.6.0,>=3.5.0->en-core-web-sm==3.5.0) (3.0.9)\n",
            "Requirement already satisfied: typing-extensions>=4.1.0 in c:\\users\\lenovo\\anaconda3\\lib\\site-packages (from pydantic!=1.8,!=1.8.1,<1.11.0,>=1.7.4->spacy<3.6.0,>=3.5.0->en-core-web-sm==3.5.0) (4.4.0)\n",
            "Requirement already satisfied: idna<4,>=2.5 in c:\\users\\lenovo\\anaconda3\\lib\\site-packages (from requests<3.0.0,>=2.13.0->spacy<3.6.0,>=3.5.0->en-core-web-sm==3.5.0) (3.3)\n",
            "Requirement already satisfied: certifi>=2017.4.17 in c:\\users\\lenovo\\anaconda3\\lib\\site-packages (from requests<3.0.0,>=2.13.0->spacy<3.6.0,>=3.5.0->en-core-web-sm==3.5.0) (2022.9.14)\n",
            "Requirement already satisfied: charset-normalizer<3,>=2 in c:\\users\\lenovo\\anaconda3\\lib\\site-packages (from requests<3.0.0,>=2.13.0->spacy<3.6.0,>=3.5.0->en-core-web-sm==3.5.0) (2.0.4)\n",
            "Requirement already satisfied: urllib3<1.27,>=1.21.1 in c:\\users\\lenovo\\anaconda3\\lib\\site-packages (from requests<3.0.0,>=2.13.0->spacy<3.6.0,>=3.5.0->en-core-web-sm==3.5.0) (1.26.11)\n",
            "Requirement already satisfied: confection<1.0.0,>=0.0.1 in c:\\users\\lenovo\\anaconda3\\lib\\site-packages (from thinc<8.2.0,>=8.1.8->spacy<3.6.0,>=3.5.0->en-core-web-sm==3.5.0) (0.0.3)\n",
            "Requirement already satisfied: blis<0.8.0,>=0.7.8 in c:\\users\\lenovo\\anaconda3\\lib\\site-packages (from thinc<8.2.0,>=8.1.8->spacy<3.6.0,>=3.5.0->en-core-web-sm==3.5.0) (0.7.9)\n",
            "Requirement already satisfied: colorama in c:\\users\\lenovo\\anaconda3\\lib\\site-packages (from tqdm<5.0.0,>=4.38.0->spacy<3.6.0,>=3.5.0->en-core-web-sm==3.5.0) (0.4.5)\n",
            "Requirement already satisfied: click<9.0.0,>=7.1.1 in c:\\users\\lenovo\\anaconda3\\lib\\site-packages (from typer<0.8.0,>=0.3.0->spacy<3.6.0,>=3.5.0->en-core-web-sm==3.5.0) (8.0.4)\n",
            "Requirement already satisfied: MarkupSafe>=2.0 in c:\\users\\lenovo\\anaconda3\\lib\\site-packages (from jinja2->spacy<3.6.0,>=3.5.0->en-core-web-sm==3.5.0) (2.1.2)\n",
            "[+] Download and installation successful\n",
            "You can now load the package via spacy.load('en_core_web_sm')\n"
          ]
        }
      ],
      "source": [
        "!pip install -U spacy\n",
        "!python -m spacy download en_core_web_sm"
      ]
    },
    {
      "cell_type": "code",
      "execution_count": null,
      "id": "ac812913",
      "metadata": {
        "id": "ac812913"
      },
      "outputs": [],
      "source": [
        "import spacy\n",
        "nlp = spacy.load('en_core_web_sm')"
      ]
    },
    {
      "cell_type": "code",
      "execution_count": null,
      "id": "00d34d2d",
      "metadata": {
        "id": "00d34d2d",
        "outputId": "11fce87b-6d30-41ee-8897-48c1a6891168"
      },
      "outputs": [
        {
          "name": "stdout",
          "output_type": "stream",
          "text": [
            "Apple 96 nsubj\n",
            "is 87 aux\n",
            "looking 100 ROOT\n",
            "at 85 prep\n",
            "buying 100 pcomp\n",
            "U.K. 96 dobj\n",
            "startup 92 dep\n",
            "for 85 prep\n",
            "$ 99 nmod\n",
            "1 93 nummod\n",
            "billon 92 pobj\n"
          ]
        }
      ],
      "source": [
        "doc = nlp('Apple is looking at buying U.K. startup for $1 billon')\n",
        "for token in doc:\n",
        "    print(token.text, token.pos, token.dep_)"
      ]
    },
    {
      "cell_type": "code",
      "execution_count": null,
      "id": "0c0c5a9c",
      "metadata": {
        "id": "0c0c5a9c",
        "outputId": "46f64c4b-a8b8-4b38-b885-7c07d558efd1"
      },
      "outputs": [
        {
          "name": "stdout",
          "output_type": "stream",
          "text": [
            "Apple PROPN\n",
            "is AUX\n",
            "looking VERB\n",
            "at ADP\n",
            "buying VERB\n",
            "U.K. PROPN\n",
            "startup NOUN\n",
            "for ADP\n",
            "$ SYM\n",
            "1 NUM\n",
            "billon NOUN\n"
          ]
        }
      ],
      "source": [
        "doc = nlp('Apple is looking at buying U.K. startup for $1 billon')\n",
        "for token in doc:\n",
        "    print(token.text, token.pos_)"
      ]
    },
    {
      "cell_type": "code",
      "execution_count": null,
      "id": "32f8a4d5",
      "metadata": {
        "id": "32f8a4d5",
        "outputId": "e56a5457-3c89-493e-d187-f349c766e0b0"
      },
      "outputs": [
        {
          "name": "stdout",
          "output_type": "stream",
          "text": [
            "Apple \t Apple \t PROPN \t NNP \t\n",
            "is \t be \t AUX \t VBZ \t\n",
            "looking \t look \t VERB \t VBG \t\n",
            "look \t look \t VERB \t VB \t\n",
            "looks \t look \t VERB \t VBZ \t\n",
            "at \t at \t ADP \t IN \t\n",
            "buying \t buy \t VERB \t VBG \t\n",
            "buy \t buy \t NOUN \t NN \t\n",
            "buys \t buy \t VERB \t VBZ \t\n",
            "U.K. \t U.K. \t PROPN \t NNP \t\n",
            "startup \t startup \t VERB \t VB \t\n",
            "for \t for \t ADP \t IN \t\n",
            "$ \t $ \t SYM \t $ \t\n",
            "1 \t 1 \t NUM \t CD \t\n",
            "billon \t billon \t NOUN \t NN \t\n"
          ]
        }
      ],
      "source": [
        "doc = nlp('Apple is looking look looks at buying buy buys U.K. startup for $1 billon')\n",
        "for token in doc:\n",
        "    print(token.text, '\\t', token.lemma_, '\\t' , token.pos_, '\\t', token.tag_, '\\t')"
      ]
    },
    {
      "cell_type": "code",
      "execution_count": null,
      "id": "33e7bdf2",
      "metadata": {
        "id": "33e7bdf2",
        "outputId": "a8654acc-4ffc-44c5-f49e-94fa6ce258e9"
      },
      "outputs": [
        {
          "name": "stdout",
          "output_type": "stream",
          "text": [
            "Apple is looking look looks at buying buy buys U.K. startup for $1 billon\n"
          ]
        }
      ],
      "source": [
        "print(doc.text)"
      ]
    },
    {
      "cell_type": "code",
      "execution_count": null,
      "id": "7ec2e129",
      "metadata": {
        "id": "7ec2e129",
        "outputId": "8dc3cc6b-5bd9-4ca7-ad14-ba97d0987278"
      },
      "outputs": [
        {
          "name": "stdout",
          "output_type": "stream",
          "text": [
            "NOUN\n"
          ]
        }
      ],
      "source": [
        "print(doc[7].pos_)"
      ]
    },
    {
      "cell_type": "code",
      "execution_count": null,
      "id": "c1d30622",
      "metadata": {
        "id": "c1d30622",
        "outputId": "2c82496f-ea79-415f-aa10-63a9135c04fa"
      },
      "outputs": [
        {
          "name": "stdout",
          "output_type": "stream",
          "text": [
            "NN\n"
          ]
        }
      ],
      "source": [
        "print(doc[7].tag_)"
      ]
    },
    {
      "cell_type": "code",
      "execution_count": null,
      "id": "8b198c4f",
      "metadata": {
        "id": "8b198c4f",
        "outputId": "b72bbcda-8bc9-4556-d1ba-b57d936df7a0"
      },
      "outputs": [
        {
          "name": "stdout",
          "output_type": "stream",
          "text": [
            "noun, singular or mass\n"
          ]
        }
      ],
      "source": [
        "print(spacy.explain(doc[7].tag_))"
      ]
    },
    {
      "cell_type": "code",
      "execution_count": null,
      "id": "e4bcb880",
      "metadata": {
        "id": "e4bcb880",
        "outputId": "18d1d21d-7682-4270-fabd-56249053b281"
      },
      "outputs": [
        {
          "data": {
            "text/plain": [
              "Apple is looking at buying U.K. startup for $1 billion"
            ]
          },
          "execution_count": 18,
          "metadata": {},
          "output_type": "execute_result"
        }
      ],
      "source": [
        "doc = nlp('Apple is looking at buying U.K. startup for $1 billion')\n",
        "doc"
      ]
    },
    {
      "cell_type": "code",
      "execution_count": null,
      "id": "2a4a9ccc",
      "metadata": {
        "id": "2a4a9ccc",
        "outputId": "5306eaca-8477-4ed2-b502-9bfe97c39b04"
      },
      "outputs": [
        {
          "name": "stdout",
          "output_type": "stream",
          "text": [
            "Apple        PROPN      NNP      noun, proper singular\n",
            "is           AUX        VBZ      verb, 3rd person singular present\n",
            "looking      VERB       VBG      verb, gerund or present participle\n",
            "at           ADP        IN       conjunction, subordinating or preposition\n",
            "buying       VERB       VBG      verb, gerund or present participle\n",
            "U.K.         PROPN      NNP      noun, proper singular\n",
            "startup      NOUN       NN       noun, singular or mass\n",
            "for          ADP        IN       conjunction, subordinating or preposition\n",
            "$            SYM        $        symbol, currency\n",
            "1            NUM        CD       cardinal number\n",
            "billion      NUM        CD       cardinal number\n"
          ]
        }
      ],
      "source": [
        "for word in doc:\n",
        "    print(f'{word.text:{12}} {word.pos_:{10}} {word.tag_:{8}} {spacy.explain(word.tag_)}')"
      ]
    },
    {
      "cell_type": "code",
      "execution_count": null,
      "id": "c5c2169c",
      "metadata": {
        "id": "c5c2169c"
      },
      "outputs": [],
      "source": [
        "paragraph = nlp(\"Congress leader Rahul Gandhi has obtained bail from a Sessions Court in Surat, pending his appeal against a bizarre conviction for defamation recorded by a judicial magistrate’s court. In an unusual judgment, the trial court had given him the maximum permissible prison term of two years, claiming that a Member of Parliament deserved to be awarded the highest punishment because of his status. As a result of the two-year jail term, he has now become ineligible to remain a legislator and the Lok Sabha Secretariat has notified his disqualification. He may be able to regain his seat only if the appellate court stays his conviction, or the appeal itself is allowed and the verdict is set aside. The Sessions Court has posted the application for hearing on April 13, and asked the complainant, Purnesh Modi, a Bharatiya Janata Party Member of the Legislative Assembly, to file his reply to the plea by April 10. Mr. Gandhi’s appeal focuses on both legal aspects of defamation and the factual aspects behind his remarks that referred to the surname ‘Modi’ figuring in a list of people who he accuses of carrying on business to the detriment of national interests. The trial court’s conclusion that Mr. Gandhi had sought to make political gain by defaming 13 crore people who carry the surname ‘Modi’ will have to be tested against the legal position that only a definite and determinable group of people can be the object of defamation.The relevant provision on defamation, Section 499 of the Indian Penal Code, contains an explanation that a ‘collection of persons’ can also be aggrieved by a defamatory remark. However, whether an amorphous group of people joined only by a surname can be such a ‘collection of persons’ is a relevant question. This becomes especially salient when the remarks are being construed as a slur on some backward communities. While the finding that the speech was defamatory was damaging in itself, the quantum of sentence has yielded some separate grounds for the appeal. Mr. Gandhi has contended that the judgment cites no precedent for giving the maximum punishment and that there is no discussion on the consequence of the two-year jail term. The appeal deserves to be heard and disposed of with some urgency as it may be an unacceptable precedent for legislators to be arbitrarily convicted for politically loaded remarks and awarded precisely the quantum of punishment required to get them disqualified. A flagrant example such as this may lead to a surge in the filing of multiple criminal cases in different jurisdictions by political rivals. It may also have the deleterious effect of courts being used to tailor the quantum of punishment to suit political requirements.\")"
      ]
    },
    {
      "cell_type": "code",
      "execution_count": null,
      "id": "c413645f",
      "metadata": {
        "id": "c413645f",
        "outputId": "7930adf5-4bf4-4e6b-f3d3-b6e84016500c"
      },
      "outputs": [
        {
          "data": {
            "text/plain": [
              "Congress leader Rahul Gandhi has obtained bail from a Sessions Court in Surat, pending his appeal against a bizarre conviction for defamation recorded by a judicial magistrate’s court. In an unusual judgment, the trial court had given him the maximum permissible prison term of two years, claiming that a Member of Parliament deserved to be awarded the highest punishment because of his status. As a result of the two-year jail term, he has now become ineligible to remain a legislator and the Lok Sabha Secretariat has notified his disqualification. He may be able to regain his seat only if the appellate court stays his conviction, or the appeal itself is allowed and the verdict is set aside. The Sessions Court has posted the application for hearing on April 13, and asked the complainant, Purnesh Modi, a Bharatiya Janata Party Member of the Legislative Assembly, to file his reply to the plea by April 10. Mr. Gandhi’s appeal focuses on both legal aspects of defamation and the factual aspects behind his remarks that referred to the surname ‘Modi’ figuring in a list of people who he accuses of carrying on business to the detriment of national interests. The trial court’s conclusion that Mr. Gandhi had sought to make political gain by defaming 13 crore people who carry the surname ‘Modi’ will have to be tested against the legal position that only a definite and determinable group of people can be the object of defamation.The relevant provision on defamation, Section 499 of the Indian Penal Code, contains an explanation that a ‘collection of persons’ can also be aggrieved by a defamatory remark. However, whether an amorphous group of people joined only by a surname can be such a ‘collection of persons’ is a relevant question. This becomes especially salient when the remarks are being construed as a slur on some backward communities. While the finding that the speech was defamatory was damaging in itself, the quantum of sentence has yielded some separate grounds for the appeal. Mr. Gandhi has contended that the judgment cites no precedent for giving the maximum punishment and that there is no discussion on the consequence of the two-year jail term. The appeal deserves to be heard and disposed of with some urgency as it may be an unacceptable precedent for legislators to be arbitrarily convicted for politically loaded remarks and awarded precisely the quantum of punishment required to get them disqualified. A flagrant example such as this may lead to a surge in the filing of multiple criminal cases in different jurisdictions by political rivals. It may also have the deleterious effect of courts being used to tailor the quantum of punishment to suit political requirements."
            ]
          },
          "execution_count": 5,
          "metadata": {},
          "output_type": "execute_result"
        }
      ],
      "source": [
        "paragraph"
      ]
    },
    {
      "cell_type": "code",
      "execution_count": null,
      "id": "3601ccb9",
      "metadata": {
        "id": "3601ccb9",
        "outputId": "13adbee4-22a2-4e7f-e88c-c323689a0cfa"
      },
      "outputs": [
        {
          "name": "stdout",
          "output_type": "stream",
          "text": [
            "Congress     PROPN      NNP      noun, proper singular\n",
            "leader       NOUN       NN       noun, singular or mass\n",
            "Rahul        PROPN      NNP      noun, proper singular\n",
            "Gandhi       PROPN      NNP      noun, proper singular\n",
            "has          AUX        VBZ      verb, 3rd person singular present\n",
            "obtained     VERB       VBN      verb, past participle\n",
            "bail         NOUN       NN       noun, singular or mass\n",
            "from         ADP        IN       conjunction, subordinating or preposition\n",
            "a            DET        DT       determiner\n",
            "Sessions     PROPN      NNP      noun, proper singular\n",
            "Court        PROPN      NNP      noun, proper singular\n",
            "in           ADP        IN       conjunction, subordinating or preposition\n",
            "Surat        PROPN      NNP      noun, proper singular\n",
            ",            PUNCT      ,        punctuation mark, comma\n",
            "pending      VERB       VBG      verb, gerund or present participle\n",
            "his          PRON       PRP$     pronoun, possessive\n",
            "appeal       NOUN       NN       noun, singular or mass\n",
            "against      ADP        IN       conjunction, subordinating or preposition\n",
            "a            DET        DT       determiner\n",
            "bizarre      ADJ        JJ       adjective (English), other noun-modifier (Chinese)\n",
            "conviction   NOUN       NN       noun, singular or mass\n",
            "for          ADP        IN       conjunction, subordinating or preposition\n",
            "defamation   NOUN       NN       noun, singular or mass\n",
            "recorded     VERB       VBN      verb, past participle\n",
            "by           ADP        IN       conjunction, subordinating or preposition\n",
            "a            DET        DT       determiner\n",
            "judicial     ADJ        JJ       adjective (English), other noun-modifier (Chinese)\n",
            "magistrate   NOUN       NN       noun, singular or mass\n",
            "’s           PART       POS      possessive ending\n",
            "court        NOUN       NN       noun, singular or mass\n",
            ".            PUNCT      .        punctuation mark, sentence closer\n",
            "In           ADP        IN       conjunction, subordinating or preposition\n",
            "an           DET        DT       determiner\n",
            "unusual      ADJ        JJ       adjective (English), other noun-modifier (Chinese)\n",
            "judgment     NOUN       NN       noun, singular or mass\n",
            ",            PUNCT      ,        punctuation mark, comma\n",
            "the          DET        DT       determiner\n",
            "trial        NOUN       NN       noun, singular or mass\n",
            "court        NOUN       NN       noun, singular or mass\n",
            "had          AUX        VBD      verb, past tense\n",
            "given        VERB       VBN      verb, past participle\n",
            "him          PRON       PRP      pronoun, personal\n",
            "the          DET        DT       determiner\n",
            "maximum      ADJ        JJ       adjective (English), other noun-modifier (Chinese)\n",
            "permissible  ADJ        JJ       adjective (English), other noun-modifier (Chinese)\n",
            "prison       NOUN       NN       noun, singular or mass\n",
            "term         NOUN       NN       noun, singular or mass\n",
            "of           ADP        IN       conjunction, subordinating or preposition\n",
            "two          NUM        CD       cardinal number\n",
            "years        NOUN       NNS      noun, plural\n",
            ",            PUNCT      ,        punctuation mark, comma\n",
            "claiming     VERB       VBG      verb, gerund or present participle\n",
            "that         SCONJ      IN       conjunction, subordinating or preposition\n",
            "a            DET        DT       determiner\n",
            "Member       PROPN      NNP      noun, proper singular\n",
            "of           ADP        IN       conjunction, subordinating or preposition\n",
            "Parliament   PROPN      NNP      noun, proper singular\n",
            "deserved     VERB       VBD      verb, past tense\n",
            "to           PART       TO       infinitival \"to\"\n",
            "be           AUX        VB       verb, base form\n",
            "awarded      VERB       VBN      verb, past participle\n",
            "the          DET        DT       determiner\n",
            "highest      ADJ        JJS      adjective, superlative\n",
            "punishment   NOUN       NN       noun, singular or mass\n",
            "because      SCONJ      IN       conjunction, subordinating or preposition\n",
            "of           ADP        IN       conjunction, subordinating or preposition\n",
            "his          PRON       PRP$     pronoun, possessive\n",
            "status       NOUN       NN       noun, singular or mass\n",
            ".            PUNCT      .        punctuation mark, sentence closer\n",
            "As           ADP        IN       conjunction, subordinating or preposition\n",
            "a            DET        DT       determiner\n",
            "result       NOUN       NN       noun, singular or mass\n",
            "of           ADP        IN       conjunction, subordinating or preposition\n",
            "the          DET        DT       determiner\n",
            "two          NUM        CD       cardinal number\n",
            "-            PUNCT      HYPH     punctuation mark, hyphen\n",
            "year         NOUN       NN       noun, singular or mass\n",
            "jail         NOUN       NN       noun, singular or mass\n",
            "term         NOUN       NN       noun, singular or mass\n",
            ",            PUNCT      ,        punctuation mark, comma\n",
            "he           PRON       PRP      pronoun, personal\n",
            "has          AUX        VBZ      verb, 3rd person singular present\n",
            "now          ADV        RB       adverb\n",
            "become       VERB       VBN      verb, past participle\n",
            "ineligible   ADJ        JJ       adjective (English), other noun-modifier (Chinese)\n",
            "to           PART       TO       infinitival \"to\"\n",
            "remain       VERB       VB       verb, base form\n",
            "a            DET        DT       determiner\n",
            "legislator   NOUN       NN       noun, singular or mass\n",
            "and          CCONJ      CC       conjunction, coordinating\n",
            "the          DET        DT       determiner\n",
            "Lok          PROPN      NNP      noun, proper singular\n",
            "Sabha        PROPN      NNP      noun, proper singular\n",
            "Secretariat  PROPN      NNP      noun, proper singular\n",
            "has          AUX        VBZ      verb, 3rd person singular present\n",
            "notified     VERB       VBN      verb, past participle\n",
            "his          PRON       PRP$     pronoun, possessive\n",
            "disqualification NOUN       NN       noun, singular or mass\n",
            ".            PUNCT      .        punctuation mark, sentence closer\n",
            "He           PRON       PRP      pronoun, personal\n",
            "may          AUX        MD       verb, modal auxiliary\n",
            "be           AUX        VB       verb, base form\n",
            "able         ADJ        JJ       adjective (English), other noun-modifier (Chinese)\n",
            "to           PART       TO       infinitival \"to\"\n",
            "regain       VERB       VB       verb, base form\n",
            "his          PRON       PRP$     pronoun, possessive\n",
            "seat         NOUN       NN       noun, singular or mass\n",
            "only         ADV        RB       adverb\n",
            "if           SCONJ      IN       conjunction, subordinating or preposition\n",
            "the          DET        DT       determiner\n",
            "appellate    ADJ        JJ       adjective (English), other noun-modifier (Chinese)\n",
            "court        NOUN       NN       noun, singular or mass\n",
            "stays        VERB       VBZ      verb, 3rd person singular present\n",
            "his          PRON       PRP$     pronoun, possessive\n",
            "conviction   NOUN       NN       noun, singular or mass\n",
            ",            PUNCT      ,        punctuation mark, comma\n",
            "or           CCONJ      CC       conjunction, coordinating\n",
            "the          DET        DT       determiner\n",
            "appeal       NOUN       NN       noun, singular or mass\n",
            "itself       PRON       PRP      pronoun, personal\n",
            "is           AUX        VBZ      verb, 3rd person singular present\n",
            "allowed      VERB       VBN      verb, past participle\n",
            "and          CCONJ      CC       conjunction, coordinating\n",
            "the          DET        DT       determiner\n",
            "verdict      NOUN       NN       noun, singular or mass\n",
            "is           AUX        VBZ      verb, 3rd person singular present\n",
            "set          VERB       VBN      verb, past participle\n",
            "aside        ADV        RB       adverb\n",
            ".            PUNCT      .        punctuation mark, sentence closer\n",
            "The          DET        DT       determiner\n",
            "Sessions     PROPN      NNP      noun, proper singular\n",
            "Court        PROPN      NNP      noun, proper singular\n",
            "has          AUX        VBZ      verb, 3rd person singular present\n",
            "posted       VERB       VBN      verb, past participle\n",
            "the          DET        DT       determiner\n",
            "application  NOUN       NN       noun, singular or mass\n",
            "for          ADP        IN       conjunction, subordinating or preposition\n",
            "hearing      VERB       VBG      verb, gerund or present participle\n",
            "on           ADP        IN       conjunction, subordinating or preposition\n",
            "April        PROPN      NNP      noun, proper singular\n",
            "13           NUM        CD       cardinal number\n",
            ",            PUNCT      ,        punctuation mark, comma\n",
            "and          CCONJ      CC       conjunction, coordinating\n",
            "asked        VERB       VBD      verb, past tense\n",
            "the          DET        DT       determiner\n",
            "complainant  NOUN       NN       noun, singular or mass\n",
            ",            PUNCT      ,        punctuation mark, comma\n",
            "Purnesh      PROPN      NNP      noun, proper singular\n",
            "Modi         PROPN      NNP      noun, proper singular\n",
            ",            PUNCT      ,        punctuation mark, comma\n",
            "a            DET        DT       determiner\n",
            "Bharatiya    PROPN      NNP      noun, proper singular\n",
            "Janata       PROPN      NNP      noun, proper singular\n",
            "Party        PROPN      NNP      noun, proper singular\n",
            "Member       PROPN      NNP      noun, proper singular\n",
            "of           ADP        IN       conjunction, subordinating or preposition\n",
            "the          DET        DT       determiner\n",
            "Legislative  PROPN      NNP      noun, proper singular\n",
            "Assembly     PROPN      NNP      noun, proper singular\n",
            ",            PUNCT      ,        punctuation mark, comma\n",
            "to           PART       TO       infinitival \"to\"\n",
            "file         VERB       VB       verb, base form\n",
            "his          PRON       PRP$     pronoun, possessive\n",
            "reply        NOUN       NN       noun, singular or mass\n",
            "to           ADP        IN       conjunction, subordinating or preposition\n",
            "the          DET        DT       determiner\n",
            "plea         NOUN       NN       noun, singular or mass\n",
            "by           ADP        IN       conjunction, subordinating or preposition\n",
            "April        PROPN      NNP      noun, proper singular\n",
            "10           NUM        CD       cardinal number\n",
            ".            PUNCT      .        punctuation mark, sentence closer\n",
            "Mr.          PROPN      NNP      noun, proper singular\n",
            "Gandhi       PROPN      NNP      noun, proper singular\n",
            "’s           PART       POS      possessive ending\n",
            "appeal       NOUN       NN       noun, singular or mass\n",
            "focuses      VERB       VBZ      verb, 3rd person singular present\n",
            "on           ADP        IN       conjunction, subordinating or preposition\n",
            "both         DET        DT       determiner\n",
            "legal        ADJ        JJ       adjective (English), other noun-modifier (Chinese)\n",
            "aspects      NOUN       NNS      noun, plural\n",
            "of           ADP        IN       conjunction, subordinating or preposition\n",
            "defamation   NOUN       NN       noun, singular or mass\n",
            "and          CCONJ      CC       conjunction, coordinating\n",
            "the          DET        DT       determiner\n",
            "factual      ADJ        JJ       adjective (English), other noun-modifier (Chinese)\n",
            "aspects      NOUN       NNS      noun, plural\n",
            "behind       ADP        IN       conjunction, subordinating or preposition\n",
            "his          PRON       PRP$     pronoun, possessive\n",
            "remarks      NOUN       NNS      noun, plural\n",
            "that         PRON       WDT      wh-determiner\n",
            "referred     VERB       VBD      verb, past tense\n",
            "to           ADP        IN       conjunction, subordinating or preposition\n",
            "the          DET        DT       determiner\n",
            "surname      NOUN       NN       noun, singular or mass\n",
            "‘            PUNCT      ``       opening quotation mark\n",
            "Modi         NOUN       NN       noun, singular or mass\n",
            "’            PUNCT      ''       closing quotation mark\n",
            "figuring     VERB       VBG      verb, gerund or present participle\n",
            "in           ADP        IN       conjunction, subordinating or preposition\n",
            "a            DET        DT       determiner\n",
            "list         NOUN       NN       noun, singular or mass\n",
            "of           ADP        IN       conjunction, subordinating or preposition\n",
            "people       NOUN       NNS      noun, plural\n",
            "who          PRON       WP       wh-pronoun, personal\n",
            "he           PRON       PRP      pronoun, personal\n",
            "accuses      VERB       VBZ      verb, 3rd person singular present\n",
            "of           ADP        IN       conjunction, subordinating or preposition\n",
            "carrying     VERB       VBG      verb, gerund or present participle\n",
            "on           ADP        IN       conjunction, subordinating or preposition\n",
            "business     NOUN       NN       noun, singular or mass\n",
            "to           ADP        IN       conjunction, subordinating or preposition\n",
            "the          DET        DT       determiner\n",
            "detriment    NOUN       NN       noun, singular or mass\n",
            "of           ADP        IN       conjunction, subordinating or preposition\n",
            "national     ADJ        JJ       adjective (English), other noun-modifier (Chinese)\n",
            "interests    NOUN       NNS      noun, plural\n",
            ".            PUNCT      .        punctuation mark, sentence closer\n",
            "The          DET        DT       determiner\n",
            "trial        NOUN       NN       noun, singular or mass\n",
            "court        NOUN       NN       noun, singular or mass\n",
            "’s           PART       POS      possessive ending\n",
            "conclusion   NOUN       NN       noun, singular or mass\n",
            "that         SCONJ      IN       conjunction, subordinating or preposition\n",
            "Mr.          PROPN      NNP      noun, proper singular\n",
            "Gandhi       PROPN      NNP      noun, proper singular\n",
            "had          AUX        VBD      verb, past tense\n",
            "sought       VERB       VBN      verb, past participle\n",
            "to           PART       TO       infinitival \"to\"\n",
            "make         VERB       VB       verb, base form\n",
            "political    ADJ        JJ       adjective (English), other noun-modifier (Chinese)\n",
            "gain         NOUN       NN       noun, singular or mass\n",
            "by           ADP        IN       conjunction, subordinating or preposition\n",
            "defaming     VERB       VBG      verb, gerund or present participle\n",
            "13           NUM        CD       cardinal number\n",
            "crore        NOUN       NN       noun, singular or mass\n",
            "people       NOUN       NNS      noun, plural\n",
            "who          PRON       WP       wh-pronoun, personal\n",
            "carry        VERB       VBP      verb, non-3rd person singular present\n",
            "the          DET        DT       determiner\n",
            "surname      NOUN       NN       noun, singular or mass\n",
            "‘            PUNCT      ``       opening quotation mark\n",
            "Modi         PROPN      NNP      noun, proper singular\n",
            "’            PUNCT      ''       closing quotation mark\n",
            "will         AUX        MD       verb, modal auxiliary\n",
            "have         VERB       VB       verb, base form\n",
            "to           PART       TO       infinitival \"to\"\n",
            "be           AUX        VB       verb, base form\n",
            "tested       VERB       VBN      verb, past participle\n",
            "against      ADP        IN       conjunction, subordinating or preposition\n",
            "the          DET        DT       determiner\n",
            "legal        ADJ        JJ       adjective (English), other noun-modifier (Chinese)\n",
            "position     NOUN       NN       noun, singular or mass\n",
            "that         SCONJ      IN       conjunction, subordinating or preposition\n",
            "only         ADV        RB       adverb\n",
            "a            DET        DT       determiner\n",
            "definite     ADJ        JJ       adjective (English), other noun-modifier (Chinese)\n",
            "and          CCONJ      CC       conjunction, coordinating\n",
            "determinable ADJ        JJ       adjective (English), other noun-modifier (Chinese)\n",
            "group        NOUN       NN       noun, singular or mass\n",
            "of           ADP        IN       conjunction, subordinating or preposition\n",
            "people       NOUN       NNS      noun, plural\n",
            "can          AUX        MD       verb, modal auxiliary\n",
            "be           AUX        VB       verb, base form\n",
            "the          DET        DT       determiner\n",
            "object       NOUN       NN       noun, singular or mass\n",
            "of           ADP        IN       conjunction, subordinating or preposition\n",
            "defamation   NOUN       NN       noun, singular or mass\n",
            ".            PUNCT      .        punctuation mark, sentence closer\n",
            "The          DET        DT       determiner\n",
            "relevant     ADJ        JJ       adjective (English), other noun-modifier (Chinese)\n",
            "provision    NOUN       NN       noun, singular or mass\n",
            "on           ADP        IN       conjunction, subordinating or preposition\n",
            "defamation   NOUN       NN       noun, singular or mass\n",
            ",            PUNCT      ,        punctuation mark, comma\n",
            "Section      NOUN       NN       noun, singular or mass\n",
            "499          NUM        CD       cardinal number\n",
            "of           ADP        IN       conjunction, subordinating or preposition\n",
            "the          DET        DT       determiner\n",
            "Indian       PROPN      NNP      noun, proper singular\n",
            "Penal        PROPN      NNP      noun, proper singular\n",
            "Code         PROPN      NNP      noun, proper singular\n",
            ",            PUNCT      ,        punctuation mark, comma\n",
            "contains     VERB       VBZ      verb, 3rd person singular present\n",
            "an           DET        DT       determiner\n",
            "explanation  NOUN       NN       noun, singular or mass\n",
            "that         SCONJ      IN       conjunction, subordinating or preposition\n",
            "a            DET        DT       determiner\n",
            "‘            PUNCT      ``       opening quotation mark\n",
            "collection   NOUN       NN       noun, singular or mass\n",
            "of           ADP        IN       conjunction, subordinating or preposition\n",
            "persons      NOUN       NNS      noun, plural\n",
            "’            PUNCT      ''       closing quotation mark\n",
            "can          AUX        MD       verb, modal auxiliary\n",
            "also         ADV        RB       adverb\n",
            "be           AUX        VB       verb, base form\n",
            "aggrieved    VERB       VBN      verb, past participle\n",
            "by           ADP        IN       conjunction, subordinating or preposition\n",
            "a            DET        DT       determiner\n",
            "defamatory   ADJ        JJ       adjective (English), other noun-modifier (Chinese)\n",
            "remark       NOUN       NN       noun, singular or mass\n",
            ".            PUNCT      .        punctuation mark, sentence closer\n",
            "However      ADV        RB       adverb\n",
            ",            PUNCT      ,        punctuation mark, comma\n",
            "whether      SCONJ      IN       conjunction, subordinating or preposition\n",
            "an           DET        DT       determiner\n",
            "amorphous    ADJ        JJ       adjective (English), other noun-modifier (Chinese)\n",
            "group        NOUN       NN       noun, singular or mass\n",
            "of           ADP        IN       conjunction, subordinating or preposition\n",
            "people       NOUN       NNS      noun, plural\n",
            "joined       VERB       VBD      verb, past tense\n",
            "only         ADV        RB       adverb\n",
            "by           ADP        IN       conjunction, subordinating or preposition\n",
            "a            DET        DT       determiner\n",
            "surname      NOUN       NN       noun, singular or mass\n",
            "can          AUX        MD       verb, modal auxiliary\n",
            "be           AUX        VB       verb, base form\n",
            "such         DET        PDT      predeterminer\n",
            "a            DET        DT       determiner\n",
            "‘            PUNCT      ``       opening quotation mark\n",
            "collection   NOUN       NN       noun, singular or mass\n",
            "of           ADP        IN       conjunction, subordinating or preposition\n",
            "persons      NOUN       NNS      noun, plural\n",
            "’            PUNCT      ''       closing quotation mark\n",
            "is           AUX        VBZ      verb, 3rd person singular present\n",
            "a            DET        DT       determiner\n",
            "relevant     ADJ        JJ       adjective (English), other noun-modifier (Chinese)\n",
            "question     NOUN       NN       noun, singular or mass\n",
            ".            PUNCT      .        punctuation mark, sentence closer\n",
            "This         PRON       DT       determiner\n",
            "becomes      VERB       VBZ      verb, 3rd person singular present\n",
            "especially   ADV        RB       adverb\n",
            "salient      ADJ        JJ       adjective (English), other noun-modifier (Chinese)\n",
            "when         SCONJ      WRB      wh-adverb\n",
            "the          DET        DT       determiner\n",
            "remarks      NOUN       NNS      noun, plural\n",
            "are          AUX        VBP      verb, non-3rd person singular present\n",
            "being        AUX        VBG      verb, gerund or present participle\n",
            "construed    VERB       VBN      verb, past participle\n",
            "as           ADP        IN       conjunction, subordinating or preposition\n",
            "a            DET        DT       determiner\n",
            "slur         NOUN       NN       noun, singular or mass\n",
            "on           ADP        IN       conjunction, subordinating or preposition\n",
            "some         DET        DT       determiner\n",
            "backward     ADJ        JJ       adjective (English), other noun-modifier (Chinese)\n",
            "communities  NOUN       NNS      noun, plural\n",
            ".            PUNCT      .        punctuation mark, sentence closer\n",
            "While        SCONJ      IN       conjunction, subordinating or preposition\n",
            "the          DET        DT       determiner\n",
            "finding      NOUN       NN       noun, singular or mass\n",
            "that         SCONJ      IN       conjunction, subordinating or preposition\n",
            "the          DET        DT       determiner\n",
            "speech       NOUN       NN       noun, singular or mass\n",
            "was          AUX        VBD      verb, past tense\n",
            "defamatory   ADJ        JJ       adjective (English), other noun-modifier (Chinese)\n",
            "was          AUX        VBD      verb, past tense\n",
            "damaging     VERB       VBG      verb, gerund or present participle\n",
            "in           ADP        IN       conjunction, subordinating or preposition\n",
            "itself       PRON       PRP      pronoun, personal\n",
            ",            PUNCT      ,        punctuation mark, comma\n",
            "the          DET        DT       determiner\n",
            "quantum      NOUN       NN       noun, singular or mass\n",
            "of           ADP        IN       conjunction, subordinating or preposition\n",
            "sentence     NOUN       NN       noun, singular or mass\n",
            "has          AUX        VBZ      verb, 3rd person singular present\n",
            "yielded      VERB       VBN      verb, past participle\n",
            "some         DET        DT       determiner\n",
            "separate     ADJ        JJ       adjective (English), other noun-modifier (Chinese)\n",
            "grounds      NOUN       NNS      noun, plural\n",
            "for          ADP        IN       conjunction, subordinating or preposition\n",
            "the          DET        DT       determiner\n",
            "appeal       NOUN       NN       noun, singular or mass\n",
            ".            PUNCT      .        punctuation mark, sentence closer\n",
            "Mr.          PROPN      NNP      noun, proper singular\n",
            "Gandhi       PROPN      NNP      noun, proper singular\n",
            "has          AUX        VBZ      verb, 3rd person singular present\n",
            "contended    VERB       VBN      verb, past participle\n",
            "that         SCONJ      IN       conjunction, subordinating or preposition\n",
            "the          DET        DT       determiner\n",
            "judgment     NOUN       NN       noun, singular or mass\n",
            "cites        VERB       VBZ      verb, 3rd person singular present\n",
            "no           DET        DT       determiner\n",
            "precedent    NOUN       NN       noun, singular or mass\n",
            "for          ADP        IN       conjunction, subordinating or preposition\n",
            "giving       VERB       VBG      verb, gerund or present participle\n",
            "the          DET        DT       determiner\n",
            "maximum      ADJ        JJ       adjective (English), other noun-modifier (Chinese)\n",
            "punishment   NOUN       NN       noun, singular or mass\n",
            "and          CCONJ      CC       conjunction, coordinating\n",
            "that         SCONJ      IN       conjunction, subordinating or preposition\n",
            "there        PRON       EX       existential there\n",
            "is           VERB       VBZ      verb, 3rd person singular present\n",
            "no           DET        DT       determiner\n",
            "discussion   NOUN       NN       noun, singular or mass\n",
            "on           ADP        IN       conjunction, subordinating or preposition\n",
            "the          DET        DT       determiner\n",
            "consequence  NOUN       NN       noun, singular or mass\n",
            "of           ADP        IN       conjunction, subordinating or preposition\n",
            "the          DET        DT       determiner\n",
            "two          NUM        CD       cardinal number\n",
            "-            PUNCT      HYPH     punctuation mark, hyphen\n",
            "year         NOUN       NN       noun, singular or mass\n",
            "jail         NOUN       NN       noun, singular or mass\n",
            "term         NOUN       NN       noun, singular or mass\n",
            ".            PUNCT      .        punctuation mark, sentence closer\n",
            "The          DET        DT       determiner\n",
            "appeal       NOUN       NN       noun, singular or mass\n",
            "deserves     VERB       VBZ      verb, 3rd person singular present\n",
            "to           PART       TO       infinitival \"to\"\n",
            "be           AUX        VB       verb, base form\n",
            "heard        VERB       VBN      verb, past participle\n",
            "and          CCONJ      CC       conjunction, coordinating\n",
            "disposed     VERB       VBN      verb, past participle\n",
            "of           ADP        IN       conjunction, subordinating or preposition\n",
            "with         ADP        IN       conjunction, subordinating or preposition\n",
            "some         DET        DT       determiner\n",
            "urgency      NOUN       NN       noun, singular or mass\n",
            "as           SCONJ      IN       conjunction, subordinating or preposition\n",
            "it           PRON       PRP      pronoun, personal\n",
            "may          AUX        MD       verb, modal auxiliary\n",
            "be           AUX        VB       verb, base form\n",
            "an           DET        DT       determiner\n",
            "unacceptable ADJ        JJ       adjective (English), other noun-modifier (Chinese)\n",
            "precedent    NOUN       NN       noun, singular or mass\n",
            "for          SCONJ      IN       conjunction, subordinating or preposition\n",
            "legislators  NOUN       NNS      noun, plural\n",
            "to           PART       TO       infinitival \"to\"\n",
            "be           AUX        VB       verb, base form\n",
            "arbitrarily  ADV        RB       adverb\n",
            "convicted    VERB       VBN      verb, past participle\n",
            "for          ADP        IN       conjunction, subordinating or preposition\n",
            "politically  ADV        RB       adverb\n",
            "loaded       VERB       VBN      verb, past participle\n",
            "remarks      NOUN       NNS      noun, plural\n",
            "and          CCONJ      CC       conjunction, coordinating\n",
            "awarded      VERB       VBD      verb, past tense\n",
            "precisely    ADV        RB       adverb\n",
            "the          DET        DT       determiner\n",
            "quantum      NOUN       NN       noun, singular or mass\n",
            "of           ADP        IN       conjunction, subordinating or preposition\n",
            "punishment   NOUN       NN       noun, singular or mass\n",
            "required     VERB       VBN      verb, past participle\n",
            "to           PART       TO       infinitival \"to\"\n",
            "get          VERB       VB       verb, base form\n",
            "them         PRON       PRP      pronoun, personal\n",
            "disqualified VERB       VBN      verb, past participle\n",
            ".            PUNCT      .        punctuation mark, sentence closer\n",
            "A            DET        DT       determiner\n",
            "flagrant     ADJ        JJ       adjective (English), other noun-modifier (Chinese)\n",
            "example      NOUN       NN       noun, singular or mass\n",
            "such         ADJ        JJ       adjective (English), other noun-modifier (Chinese)\n",
            "as           ADP        IN       conjunction, subordinating or preposition\n",
            "this         PRON       DT       determiner\n",
            "may          AUX        MD       verb, modal auxiliary\n",
            "lead         VERB       VB       verb, base form\n",
            "to           ADP        IN       conjunction, subordinating or preposition\n",
            "a            DET        DT       determiner\n",
            "surge        NOUN       NN       noun, singular or mass\n",
            "in           ADP        IN       conjunction, subordinating or preposition\n",
            "the          DET        DT       determiner\n",
            "filing       NOUN       NN       noun, singular or mass\n",
            "of           ADP        IN       conjunction, subordinating or preposition\n",
            "multiple     ADJ        JJ       adjective (English), other noun-modifier (Chinese)\n",
            "criminal     ADJ        JJ       adjective (English), other noun-modifier (Chinese)\n",
            "cases        NOUN       NNS      noun, plural\n",
            "in           ADP        IN       conjunction, subordinating or preposition\n",
            "different    ADJ        JJ       adjective (English), other noun-modifier (Chinese)\n",
            "jurisdictions NOUN       NNS      noun, plural\n",
            "by           ADP        IN       conjunction, subordinating or preposition\n",
            "political    ADJ        JJ       adjective (English), other noun-modifier (Chinese)\n",
            "rivals       NOUN       NNS      noun, plural\n",
            ".            PUNCT      .        punctuation mark, sentence closer\n",
            "It           PRON       PRP      pronoun, personal\n",
            "may          AUX        MD       verb, modal auxiliary\n",
            "also         ADV        RB       adverb\n",
            "have         VERB       VB       verb, base form\n",
            "the          DET        DT       determiner\n",
            "deleterious  ADJ        JJ       adjective (English), other noun-modifier (Chinese)\n",
            "effect       NOUN       NN       noun, singular or mass\n",
            "of           ADP        IN       conjunction, subordinating or preposition\n",
            "courts       NOUN       NNS      noun, plural\n",
            "being        AUX        VBG      verb, gerund or present participle\n",
            "used         VERB       VBN      verb, past participle\n",
            "to           PART       TO       infinitival \"to\"\n",
            "tailor       VERB       VB       verb, base form\n",
            "the          DET        DT       determiner\n",
            "quantum      NOUN       NN       noun, singular or mass\n",
            "of           ADP        IN       conjunction, subordinating or preposition\n",
            "punishment   NOUN       NN       noun, singular or mass\n",
            "to           PART       TO       infinitival \"to\"\n",
            "suit         VERB       VB       verb, base form\n",
            "political    ADJ        JJ       adjective (English), other noun-modifier (Chinese)\n",
            "requirements NOUN       NNS      noun, plural\n",
            ".            PUNCT      .        punctuation mark, sentence closer\n"
          ]
        }
      ],
      "source": [
        "for word in paragraph:\n",
        "    print(f'{word.text:{12}} {word.pos_:{10}} {word.tag_:{8}} {spacy.explain(word.tag_)}')"
      ]
    },
    {
      "cell_type": "code",
      "execution_count": null,
      "id": "f59b92c0",
      "metadata": {
        "id": "f59b92c0",
        "outputId": "8cf99e39-207c-4b76-83d7-e70bc1cb6cdc"
      },
      "outputs": [
        {
          "name": "stderr",
          "output_type": "stream",
          "text": [
            "C:\\Users\\Lenovo\\anaconda3\\lib\\site-packages\\spacy\\displacy\\__init__.py:108: UserWarning: [W011] It looks like you're calling displacy.serve from within a Jupyter notebook or a similar environment. This likely means you're already running a local web server, so there's no need to make displaCy start another one. Instead, you should be able to replace displacy.serve with displacy.render to show the visualization.\n",
            "  warnings.warn(Warnings.W011)\n"
          ]
        },
        {
          "data": {
            "text/html": [
              "<span class=\"tex2jax_ignore\"><!DOCTYPE html>\n",
              "<html lang=\"en\">\n",
              "    <head>\n",
              "        <title>displaCy</title>\n",
              "    </head>\n",
              "\n",
              "    <body style=\"font-size: 16px; font-family: -apple-system, BlinkMacSystemFont, 'Segoe UI', Helvetica, Arial, sans-serif, 'Apple Color Emoji', 'Segoe UI Emoji', 'Segoe UI Symbol'; padding: 4rem 2rem; direction: ltr\">\n",
              "<figure style=\"margin-bottom: 6rem\">\n",
              "<div class=\"entities\" style=\"line-height: 2.5; direction: ltr\">\n",
              "<mark class=\"entity\" style=\"background: #7aecec; padding: 0.45em 0.6em; margin: 0 0.25em; line-height: 1; border-radius: 0.35em;\">\n",
              "    Congress\n",
              "    <span style=\"font-size: 0.8em; font-weight: bold; line-height: 1; border-radius: 0.35em; vertical-align: middle; margin-left: 0.5rem\">ORG</span>\n",
              "</mark>\n",
              " leader \n",
              "<mark class=\"entity\" style=\"background: #aa9cfc; padding: 0.45em 0.6em; margin: 0 0.25em; line-height: 1; border-radius: 0.35em;\">\n",
              "    Rahul Gandhi\n",
              "    <span style=\"font-size: 0.8em; font-weight: bold; line-height: 1; border-radius: 0.35em; vertical-align: middle; margin-left: 0.5rem\">PERSON</span>\n",
              "</mark>\n",
              " has obtained bail from \n",
              "<mark class=\"entity\" style=\"background: #7aecec; padding: 0.45em 0.6em; margin: 0 0.25em; line-height: 1; border-radius: 0.35em;\">\n",
              "    a Sessions Court\n",
              "    <span style=\"font-size: 0.8em; font-weight: bold; line-height: 1; border-radius: 0.35em; vertical-align: middle; margin-left: 0.5rem\">ORG</span>\n",
              "</mark>\n",
              " in \n",
              "<mark class=\"entity\" style=\"background: #feca74; padding: 0.45em 0.6em; margin: 0 0.25em; line-height: 1; border-radius: 0.35em;\">\n",
              "    Surat\n",
              "    <span style=\"font-size: 0.8em; font-weight: bold; line-height: 1; border-radius: 0.35em; vertical-align: middle; margin-left: 0.5rem\">GPE</span>\n",
              "</mark>\n",
              ", pending his appeal against a bizarre conviction for defamation recorded by a judicial magistrate’s court. In an unusual judgment, the trial court had given him the maximum permissible prison term of \n",
              "<mark class=\"entity\" style=\"background: #bfe1d9; padding: 0.45em 0.6em; margin: 0 0.25em; line-height: 1; border-radius: 0.35em;\">\n",
              "    two years\n",
              "    <span style=\"font-size: 0.8em; font-weight: bold; line-height: 1; border-radius: 0.35em; vertical-align: middle; margin-left: 0.5rem\">DATE</span>\n",
              "</mark>\n",
              ", claiming that a Member of \n",
              "<mark class=\"entity\" style=\"background: #7aecec; padding: 0.45em 0.6em; margin: 0 0.25em; line-height: 1; border-radius: 0.35em;\">\n",
              "    Parliament\n",
              "    <span style=\"font-size: 0.8em; font-weight: bold; line-height: 1; border-radius: 0.35em; vertical-align: middle; margin-left: 0.5rem\">ORG</span>\n",
              "</mark>\n",
              " deserved to be awarded the highest punishment because of his status. As a result of the \n",
              "<mark class=\"entity\" style=\"background: #bfe1d9; padding: 0.45em 0.6em; margin: 0 0.25em; line-height: 1; border-radius: 0.35em;\">\n",
              "    two-year\n",
              "    <span style=\"font-size: 0.8em; font-weight: bold; line-height: 1; border-radius: 0.35em; vertical-align: middle; margin-left: 0.5rem\">DATE</span>\n",
              "</mark>\n",
              " jail term, he has now become ineligible to remain a legislator and \n",
              "<mark class=\"entity\" style=\"background: #aa9cfc; padding: 0.45em 0.6em; margin: 0 0.25em; line-height: 1; border-radius: 0.35em;\">\n",
              "    the Lok Sabha Secretariat\n",
              "    <span style=\"font-size: 0.8em; font-weight: bold; line-height: 1; border-radius: 0.35em; vertical-align: middle; margin-left: 0.5rem\">PERSON</span>\n",
              "</mark>\n",
              " has notified his disqualification. He may be able to regain his seat only if the appellate court stays his conviction, or the appeal itself is allowed and the verdict is set aside. \n",
              "<mark class=\"entity\" style=\"background: #7aecec; padding: 0.45em 0.6em; margin: 0 0.25em; line-height: 1; border-radius: 0.35em;\">\n",
              "    The Sessions Court\n",
              "    <span style=\"font-size: 0.8em; font-weight: bold; line-height: 1; border-radius: 0.35em; vertical-align: middle; margin-left: 0.5rem\">ORG</span>\n",
              "</mark>\n",
              " has posted the application for hearing on \n",
              "<mark class=\"entity\" style=\"background: #bfe1d9; padding: 0.45em 0.6em; margin: 0 0.25em; line-height: 1; border-radius: 0.35em;\">\n",
              "    April 13\n",
              "    <span style=\"font-size: 0.8em; font-weight: bold; line-height: 1; border-radius: 0.35em; vertical-align: middle; margin-left: 0.5rem\">DATE</span>\n",
              "</mark>\n",
              ", and asked the complainant, \n",
              "<mark class=\"entity\" style=\"background: #7aecec; padding: 0.45em 0.6em; margin: 0 0.25em; line-height: 1; border-radius: 0.35em;\">\n",
              "    Purnesh Modi\n",
              "    <span style=\"font-size: 0.8em; font-weight: bold; line-height: 1; border-radius: 0.35em; vertical-align: middle; margin-left: 0.5rem\">ORG</span>\n",
              "</mark>\n",
              ", a \n",
              "<mark class=\"entity\" style=\"background: #7aecec; padding: 0.45em 0.6em; margin: 0 0.25em; line-height: 1; border-radius: 0.35em;\">\n",
              "    Bharatiya Janata Party\n",
              "    <span style=\"font-size: 0.8em; font-weight: bold; line-height: 1; border-radius: 0.35em; vertical-align: middle; margin-left: 0.5rem\">ORG</span>\n",
              "</mark>\n",
              " Member of \n",
              "<mark class=\"entity\" style=\"background: #7aecec; padding: 0.45em 0.6em; margin: 0 0.25em; line-height: 1; border-radius: 0.35em;\">\n",
              "    the Legislative Assembly\n",
              "    <span style=\"font-size: 0.8em; font-weight: bold; line-height: 1; border-radius: 0.35em; vertical-align: middle; margin-left: 0.5rem\">ORG</span>\n",
              "</mark>\n",
              ", to file his reply to the plea by \n",
              "<mark class=\"entity\" style=\"background: #bfe1d9; padding: 0.45em 0.6em; margin: 0 0.25em; line-height: 1; border-radius: 0.35em;\">\n",
              "    April 10\n",
              "    <span style=\"font-size: 0.8em; font-weight: bold; line-height: 1; border-radius: 0.35em; vertical-align: middle; margin-left: 0.5rem\">DATE</span>\n",
              "</mark>\n",
              ". Mr. \n",
              "<mark class=\"entity\" style=\"background: #aa9cfc; padding: 0.45em 0.6em; margin: 0 0.25em; line-height: 1; border-radius: 0.35em;\">\n",
              "    Gandhi\n",
              "    <span style=\"font-size: 0.8em; font-weight: bold; line-height: 1; border-radius: 0.35em; vertical-align: middle; margin-left: 0.5rem\">PERSON</span>\n",
              "</mark>\n",
              "’s appeal focuses on both legal aspects of defamation and the factual aspects behind his remarks that referred to the surname ‘Modi’ figuring in a list of people who he accuses of carrying on business to the detriment of national interests. The trial court’s conclusion that Mr. \n",
              "<mark class=\"entity\" style=\"background: #aa9cfc; padding: 0.45em 0.6em; margin: 0 0.25em; line-height: 1; border-radius: 0.35em;\">\n",
              "    Gandhi\n",
              "    <span style=\"font-size: 0.8em; font-weight: bold; line-height: 1; border-radius: 0.35em; vertical-align: middle; margin-left: 0.5rem\">PERSON</span>\n",
              "</mark>\n",
              " had sought to make political gain by defaming \n",
              "<mark class=\"entity\" style=\"background: #e4e7d2; padding: 0.45em 0.6em; margin: 0 0.25em; line-height: 1; border-radius: 0.35em;\">\n",
              "    13\n",
              "    <span style=\"font-size: 0.8em; font-weight: bold; line-height: 1; border-radius: 0.35em; vertical-align: middle; margin-left: 0.5rem\">CARDINAL</span>\n",
              "</mark>\n",
              " crore people who carry the surname ‘Modi’ will have to be tested against the legal position that only a definite and determinable group of people can be the object of defamation.The relevant provision on defamation, \n",
              "<mark class=\"entity\" style=\"background: #ff8197; padding: 0.45em 0.6em; margin: 0 0.25em; line-height: 1; border-radius: 0.35em;\">\n",
              "    Section 499\n",
              "    <span style=\"font-size: 0.8em; font-weight: bold; line-height: 1; border-radius: 0.35em; vertical-align: middle; margin-left: 0.5rem\">LAW</span>\n",
              "</mark>\n",
              " of \n",
              "<mark class=\"entity\" style=\"background: #7aecec; padding: 0.45em 0.6em; margin: 0 0.25em; line-height: 1; border-radius: 0.35em;\">\n",
              "    the Indian Penal Code\n",
              "    <span style=\"font-size: 0.8em; font-weight: bold; line-height: 1; border-radius: 0.35em; vertical-align: middle; margin-left: 0.5rem\">ORG</span>\n",
              "</mark>\n",
              ", contains an explanation that a ‘collection of persons’ can also be aggrieved by a defamatory remark. However, whether an amorphous group of people joined only by a surname can be such a ‘collection of persons’ is a relevant question. This becomes especially salient when the remarks are being construed as a slur on some backward communities. While the finding that the speech was defamatory was damaging in itself, the quantum of sentence has yielded some separate grounds for the appeal. Mr. \n",
              "<mark class=\"entity\" style=\"background: #aa9cfc; padding: 0.45em 0.6em; margin: 0 0.25em; line-height: 1; border-radius: 0.35em;\">\n",
              "    Gandhi\n",
              "    <span style=\"font-size: 0.8em; font-weight: bold; line-height: 1; border-radius: 0.35em; vertical-align: middle; margin-left: 0.5rem\">PERSON</span>\n",
              "</mark>\n",
              " has contended that the judgment cites no precedent for giving the maximum punishment and that there is no discussion on the consequence of the \n",
              "<mark class=\"entity\" style=\"background: #bfe1d9; padding: 0.45em 0.6em; margin: 0 0.25em; line-height: 1; border-radius: 0.35em;\">\n",
              "    two-year\n",
              "    <span style=\"font-size: 0.8em; font-weight: bold; line-height: 1; border-radius: 0.35em; vertical-align: middle; margin-left: 0.5rem\">DATE</span>\n",
              "</mark>\n",
              " jail term. The appeal deserves to be heard and disposed of with some urgency as it may be an unacceptable precedent for legislators to be arbitrarily convicted for politically loaded remarks and awarded precisely the quantum of punishment required to get them disqualified. A flagrant example such as this may lead to a surge in the filing of multiple criminal cases in different jurisdictions by political rivals. It may also have the deleterious effect of courts being used to tailor the quantum of punishment to suit political requirements.</div>\n",
              "</figure>\n",
              "</body>\n",
              "</html></span>"
            ],
            "text/plain": [
              "<IPython.core.display.HTML object>"
            ]
          },
          "metadata": {},
          "output_type": "display_data"
        },
        {
          "name": "stdout",
          "output_type": "stream",
          "text": [
            "\n",
            "Using the 'ent' visualizer\n",
            "Serving on http://0.0.0.0:5000 ...\n",
            "\n"
          ]
        }
      ],
      "source": [
        "nlp = spacy.load(\"en_core_web_sm\")\n",
        "doc = nlp(paragraph)\n",
        "displacy.serve(doc, style=\"ent\")"
      ]
    },
    {
      "cell_type": "markdown",
      "id": "c3019102",
      "metadata": {
        "id": "c3019102"
      },
      "source": [
        "# Named Entity Recognition (NER)"
      ]
    },
    {
      "cell_type": "code",
      "execution_count": null,
      "id": "3557064b",
      "metadata": {
        "id": "3557064b",
        "outputId": "38938d04-f5d0-4715-e019-c03efb00dd1f"
      },
      "outputs": [
        {
          "name": "stdout",
          "output_type": "stream",
          "text": [
            "Apple ORG\n",
            "U.K. GPE\n",
            "$1 billion MONEY\n"
          ]
        }
      ],
      "source": [
        "doc = nlp('Apple is looking at buying U.K. startup for $1 billion')\n",
        "for ent in doc.ents:\n",
        "    print(ent.text, ent.label_)"
      ]
    },
    {
      "cell_type": "code",
      "execution_count": null,
      "id": "3e31ae2b",
      "metadata": {
        "id": "3e31ae2b",
        "outputId": "b83c67be-d755-4586-db69-0a6ba1a77a24"
      },
      "outputs": [
        {
          "name": "stdout",
          "output_type": "stream",
          "text": [
            "Congress ORG\n",
            "Rahul Gandhi PERSON\n",
            "a Sessions Court ORG\n",
            "Surat GPE\n",
            "two years DATE\n",
            "Parliament ORG\n",
            "two-year DATE\n",
            "the Lok Sabha Secretariat PERSON\n",
            "The Sessions Court ORG\n",
            "April 13 DATE\n",
            "Purnesh Modi ORG\n",
            "Bharatiya Janata Party ORG\n",
            "the Legislative Assembly ORG\n",
            "April 10 DATE\n",
            "Gandhi PERSON\n",
            "Gandhi PERSON\n",
            "13 CARDINAL\n",
            "Section 499 LAW\n",
            "the Indian Penal Code ORG\n",
            "Gandhi PERSON\n",
            "two-year DATE\n"
          ]
        }
      ],
      "source": [
        "for ent in paragraph.ents:\n",
        "    print(ent.text, ent.label_)"
      ]
    },
    {
      "cell_type": "code",
      "execution_count": null,
      "id": "63ccfa99",
      "metadata": {
        "id": "63ccfa99"
      },
      "outputs": [],
      "source": []
    },
    {
      "cell_type": "code",
      "execution_count": null,
      "id": "7f1e69b0",
      "metadata": {
        "id": "7f1e69b0"
      },
      "outputs": [],
      "source": []
    },
    {
      "cell_type": "code",
      "execution_count": null,
      "id": "93386dce",
      "metadata": {
        "id": "93386dce"
      },
      "outputs": [],
      "source": [
        "doc = nlp('Apple is looking at buying U.K. startup for $1 billon')"
      ]
    },
    {
      "cell_type": "markdown",
      "id": "09bf3349",
      "metadata": {
        "id": "09bf3349"
      },
      "source": [
        "# Visualization"
      ]
    },
    {
      "cell_type": "code",
      "execution_count": null,
      "id": "7923ed85",
      "metadata": {
        "id": "7923ed85"
      },
      "outputs": [],
      "source": [
        "from spacy import displacy"
      ]
    },
    {
      "cell_type": "code",
      "execution_count": null,
      "id": "9528893c",
      "metadata": {
        "id": "9528893c",
        "outputId": "01a31c60-f32c-490c-a462-489d95788de2"
      },
      "outputs": [
        {
          "data": {
            "text/html": [
              "<span class=\"tex2jax_ignore\"><svg xmlns=\"http://www.w3.org/2000/svg\" xmlns:xlink=\"http://www.w3.org/1999/xlink\" xml:lang=\"en\" id=\"6654552998be4eff8e5c3d625147f5d1-0\" class=\"displacy\" width=\"1975\" height=\"312.0\" direction=\"ltr\" style=\"max-width: none; height: 312.0px; color: #000000; background: #ffffff; font-family: Arial; direction: ltr\">\n",
              "<text class=\"displacy-token\" fill=\"currentColor\" text-anchor=\"middle\" y=\"222.0\">\n",
              "    <tspan class=\"displacy-word\" fill=\"currentColor\" x=\"50\">Apple</tspan>\n",
              "    <tspan class=\"displacy-tag\" dy=\"2em\" fill=\"currentColor\" x=\"50\">PROPN</tspan>\n",
              "</text>\n",
              "\n",
              "<text class=\"displacy-token\" fill=\"currentColor\" text-anchor=\"middle\" y=\"222.0\">\n",
              "    <tspan class=\"displacy-word\" fill=\"currentColor\" x=\"225\">is</tspan>\n",
              "    <tspan class=\"displacy-tag\" dy=\"2em\" fill=\"currentColor\" x=\"225\">AUX</tspan>\n",
              "</text>\n",
              "\n",
              "<text class=\"displacy-token\" fill=\"currentColor\" text-anchor=\"middle\" y=\"222.0\">\n",
              "    <tspan class=\"displacy-word\" fill=\"currentColor\" x=\"400\">looking</tspan>\n",
              "    <tspan class=\"displacy-tag\" dy=\"2em\" fill=\"currentColor\" x=\"400\">VERB</tspan>\n",
              "</text>\n",
              "\n",
              "<text class=\"displacy-token\" fill=\"currentColor\" text-anchor=\"middle\" y=\"222.0\">\n",
              "    <tspan class=\"displacy-word\" fill=\"currentColor\" x=\"575\">at</tspan>\n",
              "    <tspan class=\"displacy-tag\" dy=\"2em\" fill=\"currentColor\" x=\"575\">ADP</tspan>\n",
              "</text>\n",
              "\n",
              "<text class=\"displacy-token\" fill=\"currentColor\" text-anchor=\"middle\" y=\"222.0\">\n",
              "    <tspan class=\"displacy-word\" fill=\"currentColor\" x=\"750\">buying</tspan>\n",
              "    <tspan class=\"displacy-tag\" dy=\"2em\" fill=\"currentColor\" x=\"750\">VERB</tspan>\n",
              "</text>\n",
              "\n",
              "<text class=\"displacy-token\" fill=\"currentColor\" text-anchor=\"middle\" y=\"222.0\">\n",
              "    <tspan class=\"displacy-word\" fill=\"currentColor\" x=\"925\">U.K.</tspan>\n",
              "    <tspan class=\"displacy-tag\" dy=\"2em\" fill=\"currentColor\" x=\"925\">PROPN</tspan>\n",
              "</text>\n",
              "\n",
              "<text class=\"displacy-token\" fill=\"currentColor\" text-anchor=\"middle\" y=\"222.0\">\n",
              "    <tspan class=\"displacy-word\" fill=\"currentColor\" x=\"1100\">startup</tspan>\n",
              "    <tspan class=\"displacy-tag\" dy=\"2em\" fill=\"currentColor\" x=\"1100\">NOUN</tspan>\n",
              "</text>\n",
              "\n",
              "<text class=\"displacy-token\" fill=\"currentColor\" text-anchor=\"middle\" y=\"222.0\">\n",
              "    <tspan class=\"displacy-word\" fill=\"currentColor\" x=\"1275\">for</tspan>\n",
              "    <tspan class=\"displacy-tag\" dy=\"2em\" fill=\"currentColor\" x=\"1275\">ADP</tspan>\n",
              "</text>\n",
              "\n",
              "<text class=\"displacy-token\" fill=\"currentColor\" text-anchor=\"middle\" y=\"222.0\">\n",
              "    <tspan class=\"displacy-word\" fill=\"currentColor\" x=\"1450\">$</tspan>\n",
              "    <tspan class=\"displacy-tag\" dy=\"2em\" fill=\"currentColor\" x=\"1450\">SYM</tspan>\n",
              "</text>\n",
              "\n",
              "<text class=\"displacy-token\" fill=\"currentColor\" text-anchor=\"middle\" y=\"222.0\">\n",
              "    <tspan class=\"displacy-word\" fill=\"currentColor\" x=\"1625\">1</tspan>\n",
              "    <tspan class=\"displacy-tag\" dy=\"2em\" fill=\"currentColor\" x=\"1625\">NUM</tspan>\n",
              "</text>\n",
              "\n",
              "<text class=\"displacy-token\" fill=\"currentColor\" text-anchor=\"middle\" y=\"222.0\">\n",
              "    <tspan class=\"displacy-word\" fill=\"currentColor\" x=\"1800\">billon</tspan>\n",
              "    <tspan class=\"displacy-tag\" dy=\"2em\" fill=\"currentColor\" x=\"1800\">NOUN</tspan>\n",
              "</text>\n",
              "\n",
              "<g class=\"displacy-arrow\">\n",
              "    <path class=\"displacy-arc\" id=\"arrow-6654552998be4eff8e5c3d625147f5d1-0-0\" stroke-width=\"2px\" d=\"M70,177.0 C70,2.0 400.0,2.0 400.0,177.0\" fill=\"none\" stroke=\"currentColor\"/>\n",
              "    <text dy=\"1.25em\" style=\"font-size: 0.8em; letter-spacing: 1px\">\n",
              "        <textPath xlink:href=\"#arrow-6654552998be4eff8e5c3d625147f5d1-0-0\" class=\"displacy-label\" startOffset=\"50%\" side=\"left\" fill=\"currentColor\" text-anchor=\"middle\">nsubj</textPath>\n",
              "    </text>\n",
              "    <path class=\"displacy-arrowhead\" d=\"M70,179.0 L62,167.0 78,167.0\" fill=\"currentColor\"/>\n",
              "</g>\n",
              "\n",
              "<g class=\"displacy-arrow\">\n",
              "    <path class=\"displacy-arc\" id=\"arrow-6654552998be4eff8e5c3d625147f5d1-0-1\" stroke-width=\"2px\" d=\"M245,177.0 C245,89.5 395.0,89.5 395.0,177.0\" fill=\"none\" stroke=\"currentColor\"/>\n",
              "    <text dy=\"1.25em\" style=\"font-size: 0.8em; letter-spacing: 1px\">\n",
              "        <textPath xlink:href=\"#arrow-6654552998be4eff8e5c3d625147f5d1-0-1\" class=\"displacy-label\" startOffset=\"50%\" side=\"left\" fill=\"currentColor\" text-anchor=\"middle\">aux</textPath>\n",
              "    </text>\n",
              "    <path class=\"displacy-arrowhead\" d=\"M245,179.0 L237,167.0 253,167.0\" fill=\"currentColor\"/>\n",
              "</g>\n",
              "\n",
              "<g class=\"displacy-arrow\">\n",
              "    <path class=\"displacy-arc\" id=\"arrow-6654552998be4eff8e5c3d625147f5d1-0-2\" stroke-width=\"2px\" d=\"M420,177.0 C420,89.5 570.0,89.5 570.0,177.0\" fill=\"none\" stroke=\"currentColor\"/>\n",
              "    <text dy=\"1.25em\" style=\"font-size: 0.8em; letter-spacing: 1px\">\n",
              "        <textPath xlink:href=\"#arrow-6654552998be4eff8e5c3d625147f5d1-0-2\" class=\"displacy-label\" startOffset=\"50%\" side=\"left\" fill=\"currentColor\" text-anchor=\"middle\">prep</textPath>\n",
              "    </text>\n",
              "    <path class=\"displacy-arrowhead\" d=\"M570.0,179.0 L578.0,167.0 562.0,167.0\" fill=\"currentColor\"/>\n",
              "</g>\n",
              "\n",
              "<g class=\"displacy-arrow\">\n",
              "    <path class=\"displacy-arc\" id=\"arrow-6654552998be4eff8e5c3d625147f5d1-0-3\" stroke-width=\"2px\" d=\"M595,177.0 C595,89.5 745.0,89.5 745.0,177.0\" fill=\"none\" stroke=\"currentColor\"/>\n",
              "    <text dy=\"1.25em\" style=\"font-size: 0.8em; letter-spacing: 1px\">\n",
              "        <textPath xlink:href=\"#arrow-6654552998be4eff8e5c3d625147f5d1-0-3\" class=\"displacy-label\" startOffset=\"50%\" side=\"left\" fill=\"currentColor\" text-anchor=\"middle\">pcomp</textPath>\n",
              "    </text>\n",
              "    <path class=\"displacy-arrowhead\" d=\"M745.0,179.0 L753.0,167.0 737.0,167.0\" fill=\"currentColor\"/>\n",
              "</g>\n",
              "\n",
              "<g class=\"displacy-arrow\">\n",
              "    <path class=\"displacy-arc\" id=\"arrow-6654552998be4eff8e5c3d625147f5d1-0-4\" stroke-width=\"2px\" d=\"M770,177.0 C770,89.5 920.0,89.5 920.0,177.0\" fill=\"none\" stroke=\"currentColor\"/>\n",
              "    <text dy=\"1.25em\" style=\"font-size: 0.8em; letter-spacing: 1px\">\n",
              "        <textPath xlink:href=\"#arrow-6654552998be4eff8e5c3d625147f5d1-0-4\" class=\"displacy-label\" startOffset=\"50%\" side=\"left\" fill=\"currentColor\" text-anchor=\"middle\">dobj</textPath>\n",
              "    </text>\n",
              "    <path class=\"displacy-arrowhead\" d=\"M920.0,179.0 L928.0,167.0 912.0,167.0\" fill=\"currentColor\"/>\n",
              "</g>\n",
              "\n",
              "<g class=\"displacy-arrow\">\n",
              "    <path class=\"displacy-arc\" id=\"arrow-6654552998be4eff8e5c3d625147f5d1-0-5\" stroke-width=\"2px\" d=\"M420,177.0 C420,2.0 1100.0,2.0 1100.0,177.0\" fill=\"none\" stroke=\"currentColor\"/>\n",
              "    <text dy=\"1.25em\" style=\"font-size: 0.8em; letter-spacing: 1px\">\n",
              "        <textPath xlink:href=\"#arrow-6654552998be4eff8e5c3d625147f5d1-0-5\" class=\"displacy-label\" startOffset=\"50%\" side=\"left\" fill=\"currentColor\" text-anchor=\"middle\">dep</textPath>\n",
              "    </text>\n",
              "    <path class=\"displacy-arrowhead\" d=\"M1100.0,179.0 L1108.0,167.0 1092.0,167.0\" fill=\"currentColor\"/>\n",
              "</g>\n",
              "\n",
              "<g class=\"displacy-arrow\">\n",
              "    <path class=\"displacy-arc\" id=\"arrow-6654552998be4eff8e5c3d625147f5d1-0-6\" stroke-width=\"2px\" d=\"M1120,177.0 C1120,89.5 1270.0,89.5 1270.0,177.0\" fill=\"none\" stroke=\"currentColor\"/>\n",
              "    <text dy=\"1.25em\" style=\"font-size: 0.8em; letter-spacing: 1px\">\n",
              "        <textPath xlink:href=\"#arrow-6654552998be4eff8e5c3d625147f5d1-0-6\" class=\"displacy-label\" startOffset=\"50%\" side=\"left\" fill=\"currentColor\" text-anchor=\"middle\">prep</textPath>\n",
              "    </text>\n",
              "    <path class=\"displacy-arrowhead\" d=\"M1270.0,179.0 L1278.0,167.0 1262.0,167.0\" fill=\"currentColor\"/>\n",
              "</g>\n",
              "\n",
              "<g class=\"displacy-arrow\">\n",
              "    <path class=\"displacy-arc\" id=\"arrow-6654552998be4eff8e5c3d625147f5d1-0-7\" stroke-width=\"2px\" d=\"M1470,177.0 C1470,89.5 1620.0,89.5 1620.0,177.0\" fill=\"none\" stroke=\"currentColor\"/>\n",
              "    <text dy=\"1.25em\" style=\"font-size: 0.8em; letter-spacing: 1px\">\n",
              "        <textPath xlink:href=\"#arrow-6654552998be4eff8e5c3d625147f5d1-0-7\" class=\"displacy-label\" startOffset=\"50%\" side=\"left\" fill=\"currentColor\" text-anchor=\"middle\">nmod</textPath>\n",
              "    </text>\n",
              "    <path class=\"displacy-arrowhead\" d=\"M1470,179.0 L1462,167.0 1478,167.0\" fill=\"currentColor\"/>\n",
              "</g>\n",
              "\n",
              "<g class=\"displacy-arrow\">\n",
              "    <path class=\"displacy-arc\" id=\"arrow-6654552998be4eff8e5c3d625147f5d1-0-8\" stroke-width=\"2px\" d=\"M1645,177.0 C1645,89.5 1795.0,89.5 1795.0,177.0\" fill=\"none\" stroke=\"currentColor\"/>\n",
              "    <text dy=\"1.25em\" style=\"font-size: 0.8em; letter-spacing: 1px\">\n",
              "        <textPath xlink:href=\"#arrow-6654552998be4eff8e5c3d625147f5d1-0-8\" class=\"displacy-label\" startOffset=\"50%\" side=\"left\" fill=\"currentColor\" text-anchor=\"middle\">nummod</textPath>\n",
              "    </text>\n",
              "    <path class=\"displacy-arrowhead\" d=\"M1645,179.0 L1637,167.0 1653,167.0\" fill=\"currentColor\"/>\n",
              "</g>\n",
              "\n",
              "<g class=\"displacy-arrow\">\n",
              "    <path class=\"displacy-arc\" id=\"arrow-6654552998be4eff8e5c3d625147f5d1-0-9\" stroke-width=\"2px\" d=\"M1295,177.0 C1295,2.0 1800.0,2.0 1800.0,177.0\" fill=\"none\" stroke=\"currentColor\"/>\n",
              "    <text dy=\"1.25em\" style=\"font-size: 0.8em; letter-spacing: 1px\">\n",
              "        <textPath xlink:href=\"#arrow-6654552998be4eff8e5c3d625147f5d1-0-9\" class=\"displacy-label\" startOffset=\"50%\" side=\"left\" fill=\"currentColor\" text-anchor=\"middle\">pobj</textPath>\n",
              "    </text>\n",
              "    <path class=\"displacy-arrowhead\" d=\"M1800.0,179.0 L1808.0,167.0 1792.0,167.0\" fill=\"currentColor\"/>\n",
              "</g>\n",
              "</svg></span>"
            ],
            "text/plain": [
              "<IPython.core.display.HTML object>"
            ]
          },
          "metadata": {},
          "output_type": "display_data"
        }
      ],
      "source": [
        "displacy.render(doc, jupyter=True)"
      ]
    },
    {
      "cell_type": "code",
      "execution_count": null,
      "id": "9a059b46",
      "metadata": {
        "id": "9a059b46",
        "outputId": "2f261959-c46c-4215-a204-1af2c9eb5c6c"
      },
      "outputs": [
        {
          "name": "stderr",
          "output_type": "stream",
          "text": [
            "C:\\Users\\Lenovo\\anaconda3\\lib\\site-packages\\spacy\\displacy\\__init__.py:108: UserWarning: [W011] It looks like you're calling displacy.serve from within a Jupyter notebook or a similar environment. This likely means you're already running a local web server, so there's no need to make displaCy start another one. Instead, you should be able to replace displacy.serve with displacy.render to show the visualization.\n",
            "  warnings.warn(Warnings.W011)\n"
          ]
        },
        {
          "data": {
            "text/html": [
              "<span class=\"tex2jax_ignore\"><!DOCTYPE html>\n",
              "<html lang=\"en\">\n",
              "    <head>\n",
              "        <title>displaCy</title>\n",
              "    </head>\n",
              "\n",
              "    <body style=\"font-size: 16px; font-family: -apple-system, BlinkMacSystemFont, 'Segoe UI', Helvetica, Arial, sans-serif, 'Apple Color Emoji', 'Segoe UI Emoji', 'Segoe UI Symbol'; padding: 4rem 2rem; direction: ltr\">\n",
              "<figure style=\"margin-bottom: 6rem\">\n",
              "<div class=\"entities\" style=\"line-height: 2.5; direction: ltr\">When \n",
              "<mark class=\"entity\" style=\"background: #aa9cfc; padding: 0.45em 0.6em; margin: 0 0.25em; line-height: 1; border-radius: 0.35em;\">\n",
              "    Sebastian Thrun\n",
              "    <span style=\"font-size: 0.8em; font-weight: bold; line-height: 1; border-radius: 0.35em; vertical-align: middle; margin-left: 0.5rem\">PERSON</span>\n",
              "</mark>\n",
              " started working on self-driving cars at \n",
              "<mark class=\"entity\" style=\"background: #7aecec; padding: 0.45em 0.6em; margin: 0 0.25em; line-height: 1; border-radius: 0.35em;\">\n",
              "    Google\n",
              "    <span style=\"font-size: 0.8em; font-weight: bold; line-height: 1; border-radius: 0.35em; vertical-align: middle; margin-left: 0.5rem\">ORG</span>\n",
              "</mark>\n",
              " in \n",
              "<mark class=\"entity\" style=\"background: #bfe1d9; padding: 0.45em 0.6em; margin: 0 0.25em; line-height: 1; border-radius: 0.35em;\">\n",
              "    2007\n",
              "    <span style=\"font-size: 0.8em; font-weight: bold; line-height: 1; border-radius: 0.35em; vertical-align: middle; margin-left: 0.5rem\">DATE</span>\n",
              "</mark>\n",
              ", few people outside of the company took him seriously.</div>\n",
              "</figure>\n",
              "</body>\n",
              "</html></span>"
            ],
            "text/plain": [
              "<IPython.core.display.HTML object>"
            ]
          },
          "metadata": {},
          "output_type": "display_data"
        },
        {
          "name": "stdout",
          "output_type": "stream",
          "text": [
            "\n",
            "Using the 'ent' visualizer\n",
            "Serving on http://0.0.0.0:5000 ...\n",
            "\n"
          ]
        }
      ],
      "source": [
        "import spacy\n",
        "from spacy import displacy\n",
        "\n",
        "text = \"When Sebastian Thrun started working on self-driving cars at Google in 2007, few people outside of the company took him seriously.\"\n",
        "\n",
        "nlp = spacy.load(\"en_core_web_sm\")\n",
        "doc = nlp(text)\n",
        "displacy.serve(doc, style=\"ent\")"
      ]
    },
    {
      "cell_type": "code",
      "execution_count": null,
      "id": "bf58eba6",
      "metadata": {
        "id": "bf58eba6",
        "outputId": "8cef057c-1323-4358-d509-ffbf9872b7bb"
      },
      "outputs": [
        {
          "data": {
            "text/plain": [
              "[('looking', 'VBG')]"
            ]
          },
          "execution_count": 27,
          "metadata": {},
          "output_type": "execute_result"
        }
      ],
      "source": [
        "# Same thing we can do in Nltk also\n",
        "import nltk\n",
        "from nltk.corpus import stopwords\n",
        "from nltk.tokenize import word_tokenize, sent_tokenize\n",
        "stop_words = set(stopwords.words('english'))\n",
        "nltk.pos_tag(['looking'])"
      ]
    },
    {
      "cell_type": "code",
      "execution_count": null,
      "id": "47f548e9",
      "metadata": {
        "id": "47f548e9",
        "outputId": "1baf8374-867a-46ab-c7ac-18b8d17b2e83"
      },
      "outputs": [
        {
          "data": {
            "text/plain": [
              "[('Apple', 'NNP'),\n",
              " ('is', 'VBZ'),\n",
              " ('looking', 'VBG'),\n",
              " ('at', 'IN'),\n",
              " ('buying', 'VBG'),\n",
              " ('U.K.', 'NNP'),\n",
              " ('startup', 'NN'),\n",
              " ('for', 'IN'),\n",
              " ('$', '$'),\n",
              " ('1', 'CD'),\n",
              " ('billon', 'NN')]"
            ]
          },
          "execution_count": 28,
          "metadata": {},
          "output_type": "execute_result"
        }
      ],
      "source": [
        "sentence = 'Apple is looking at buying U.K. startup for $1 billon'\n",
        "nltk.pos_tag(nltk.word_tokenize(sentence))"
      ]
    },
    {
      "cell_type": "markdown",
      "id": "dfc6c035",
      "metadata": {
        "id": "dfc6c035"
      },
      "source": [
        "# Word Vectors and word similarity - Spacy"
      ]
    },
    {
      "cell_type": "code",
      "execution_count": null,
      "id": "254bb497",
      "metadata": {
        "id": "254bb497",
        "outputId": "e3e39adb-0ced-4e0f-fd27-770f2500b85c"
      },
      "outputs": [
        {
          "name": "stdout",
          "output_type": "stream",
          "text": [
            "(96,)\n",
            "[-1.1644554e+00 -2.3776200e-01 -5.7235694e-01  8.2745951e-01\n",
            " -2.0762187e-01  4.1374016e-01  1.3347497e+00  1.6038080e+00\n",
            "  5.1941484e-01  3.2441631e-02  7.3419011e-01 -1.0729407e+00\n",
            " -1.4816897e+00  4.7852546e-02 -5.1320225e-02  4.7570133e-01\n",
            " -3.8639060e-01 -1.4692944e+00  1.8300211e+00  9.7182912e-01\n",
            " -9.4919097e-01  3.1860286e-01 -9.4956493e-01  3.9356846e-01\n",
            "  4.5540249e-01  8.4982342e-01  6.9797742e-01  1.4787425e+00\n",
            " -5.3880769e-01 -1.3417885e-01 -3.5967842e-01  3.1170893e-01\n",
            "  1.3516512e+00  5.4283458e-01 -7.9685897e-01 -1.6721394e+00\n",
            "  3.6018819e-01  1.7563279e+00  1.8734287e-01 -1.4266655e-02\n",
            " -1.1299572e+00  2.7920300e-01 -9.6590281e-01  3.7572676e-01\n",
            " -8.3723503e-01 -3.7223327e-01 -6.3374788e-01  1.5240560e+00\n",
            "  5.4313695e-01  3.5741216e-01  1.1868639e+00 -1.4937818e-01\n",
            " -6.8573311e-02  4.8265824e-01 -7.6760137e-01 -4.2172205e-01\n",
            "  1.5669353e+00 -9.3419486e-01  9.2009288e-01 -2.2148147e-02\n",
            " -1.1056734e+00 -3.8101715e-01  1.7080033e-01 -4.2072904e-01\n",
            "  2.9924709e-01  6.4906913e-01 -5.9777510e-01 -6.4553916e-03\n",
            "  9.2342502e-01 -1.3023263e+00  1.3691519e+00 -1.1887729e-02\n",
            "  1.2135270e+00 -4.2354614e-01 -3.2253265e-01 -2.2863477e-01\n",
            " -2.8096709e-01 -5.9256613e-01  2.7567923e-01 -1.8935394e+00\n",
            " -5.2894637e-02 -7.6792181e-01 -1.7736058e+00 -1.4018815e+00\n",
            " -1.3262229e+00  6.3402301e-01 -4.3561158e-01 -4.9137360e-01\n",
            " -7.2090942e-01  1.4047134e+00 -5.5814946e-01  3.3349705e-01\n",
            "  1.4383296e+00  5.4582918e-01  7.3844194e-04  4.9629614e-01]\n"
          ]
        }
      ],
      "source": [
        "import en_core_web_sm\n",
        "nlp = en_core_web_sm.load()\n",
        "mango = nlp(u'mango')\n",
        "print(mango.vector.shape)\n",
        "print(mango.vector)"
      ]
    },
    {
      "cell_type": "code",
      "execution_count": null,
      "id": "aca043f4",
      "metadata": {
        "id": "aca043f4",
        "outputId": "f85f3312-3501-4f6e-a26c-283526b20954"
      },
      "outputs": [
        {
          "name": "stdout",
          "output_type": "stream",
          "text": [
            "apple <-> mango 0.4014768600463867\n",
            "apple <-> mobile 0.07297319173812866\n",
            "True True True\n"
          ]
        },
        {
          "name": "stderr",
          "output_type": "stream",
          "text": [
            "C:\\Users\\Lenovo\\AppData\\Local\\Temp\\ipykernel_16144\\1053171091.py:6: UserWarning: [W007] The model you're using has no word vectors loaded, so the result of the Token.similarity method will be based on the tagger, parser and NER, which may not give useful similarity judgements. This may happen if you're using one of the small models, e.g. `en_core_web_sm`, which don't ship with word vectors and only use context-sensitive tensors. You can always add your own word vectors, or use one of the larger models instead if available.\n",
            "  print(\"apple <-> mango\", apple.similarity(mango))\n",
            "C:\\Users\\Lenovo\\AppData\\Local\\Temp\\ipykernel_16144\\1053171091.py:7: UserWarning: [W007] The model you're using has no word vectors loaded, so the result of the Token.similarity method will be based on the tagger, parser and NER, which may not give useful similarity judgements. This may happen if you're using one of the small models, e.g. `en_core_web_sm`, which don't ship with word vectors and only use context-sensitive tensors. You can always add your own word vectors, or use one of the larger models instead if available.\n",
            "  print(\"apple <-> mobile\", apple.similarity(mobile))\n"
          ]
        }
      ],
      "source": [
        "doc = nlp(\"Apple and mango and mobile are similar.\")\n",
        "apple = doc[0]\n",
        "mango = doc[2]\n",
        "mobile = doc[4]\n",
        "\n",
        "print(\"apple <-> mango\", apple.similarity(mango))\n",
        "print(\"apple <-> mobile\", apple.similarity(mobile))\n",
        "print(apple.has_vector, mango.has_vector, mobile.has_vector)"
      ]
    },
    {
      "cell_type": "code",
      "execution_count": null,
      "id": "627798ae",
      "metadata": {
        "id": "627798ae"
      },
      "outputs": [],
      "source": []
    },
    {
      "cell_type": "markdown",
      "id": "1e6d6c50",
      "metadata": {
        "id": "1e6d6c50"
      },
      "source": [
        "# StopWords - Spacy"
      ]
    },
    {
      "cell_type": "code",
      "execution_count": null,
      "id": "ff71263c",
      "metadata": {
        "id": "ff71263c",
        "outputId": "cc812e3a-25e1-4629-cee2-38c0e27a7393"
      },
      "outputs": [
        {
          "name": "stdout",
          "output_type": "stream",
          "text": [
            "\n",
            " List of all Stop_Words in Spacy - English Language\n",
            "{'whose', 'see', 'nevertheless', 'had', 'she', 'here', 'these', 'former', 'hereafter', 'in', 'toward', 'less', 'are', 'since', 'wherein', 'please', 'me', 'thereupon', 'from', 'will', 'really', 'throughout', 'noone', 'unless', 'yet', 'under', 'whence', 'else', 'off', 'beforehand', 'you', 'put', 'whereafter', 'already', 'amount', 'part', 'due', 'as', 'side', 'behind', 'must', '‘m', 'say', 'first', 'wherever', 'how', 'for', 'just', 'once', 'about', 'becomes', 'down', 'why', '’re', '’d', 'and', 'a', 'full', 'seem', 'into', 'elsewhere', 'whereas', 'enough', 'while', 'yourself', 'same', 'seemed', 'six', 'but', 'serious', 'using', 'beyond', 'your', 'only', 'hereupon', 'doing', 'too', 'if', 'three', 'whole', 'been', '’ll', 'well', 'such', 'us', \"'s\", 'except', 'though', 'has', 'nor', 'we', 'fifteen', \"'ll\", 'was', 'much', 'with', 'thru', 'of', 'nine', 'very', 'sixty', 'anything', \"n't\", 'together', 'another', 'among', 'others', 'top', 'hence', 'twenty', 'again', 'below', 'however', 'than', 'ever', 'four', 'perhaps', 'therefore', 'when', 'thence', \"'ve\", 'take', 'now', 'on', 'therein', 'whereby', 'up', \"'re\", 'might', 'do', 'their', 'two', 'anyway', 'be', 'so', 'which', 'formerly', 'otherwise', 'thereafter', 'can', 'his', 'become', '‘re', 'him', 'it', 'name', 'its', 'out', 'n‘t', 'upon', 'that', 'between', 'whenever', 'may', 'could', 'next', 'empty', 'because', 'there', 'via', 'whether', 'have', 'front', 'i', 'beside', 'everything', 'during', 'twelve', 'various', '’m', 'towards', 'around', 'latterly', 'own', 'last', 'those', 'indeed', 'fifty', 'at', 'alone', 'something', 'by', 'always', 'then', 'thus', 'namely', 'n’t', 'mostly', 'to', 'whereupon', 'cannot', 'also', 'along', '’ve', 'hundred', 'eight', 'moreover', 'themselves', 'yourselves', 'nothing', 'both', 'is', 'anywhere', 'afterwards', 'becoming', 'what', 'call', 'were', 'yours', \"'m\", 'thereby', 'before', 'keep', 'ours', 'five', 'everyone', 'until', 'nowhere', 'least', 'done', 'back', 'almost', 'sometime', 'go', 'latter', 'anyone', 'each', 'although', 'make', 'somewhere', 'her', 'forty', '‘d', 'other', 'besides', 'regarding', 'nobody', 'anyhow', '’s', 'someone', 'some', 'per', 'through', 'hereby', 'my', 'against', 'bottom', 'used', 'amongst', 'many', 'sometimes', 'does', 'being', 'neither', 'any', 'mine', 'am', 'most', 'several', 'get', 'even', 'whither', 'somehow', 'the', 'quite', 'made', 'where', 'without', 'herein', 'none', 'one', 'over', 'often', 'ten', 'all', 'onto', 'meanwhile', 'hers', 'herself', 'should', 'within', 'himself', 'whom', 'show', 'seeming', 're', 'became', 'seems', 'every', 'either', 'our', 'would', 'after', 'move', 'they', 'no', 'everywhere', 'this', '‘ll', 'ourselves', 'never', 'few', 'them', 'rather', 'myself', 'third', \"'d\", 'eleven', 'or', 'who', 'ca', 'more', 'further', 'still', 'he', 'give', 'whoever', 'an', 'not', 'above', 'did', 'whatever', 'across', '‘s', '‘ve', 'itself'}\n"
          ]
        }
      ],
      "source": [
        "import spacy\n",
        "nlp = spacy.load('en_core_web_sm')\n",
        "all_stopwords = nlp.Defaults.stop_words\n",
        "\n",
        "print('\\n List of all Stop_Words in Spacy - English Language')\n",
        "print(all_stopwords)"
      ]
    },
    {
      "cell_type": "markdown",
      "id": "52dfdc2d",
      "metadata": {
        "id": "52dfdc2d"
      },
      "source": [
        "# Remove the stop_words from the sentences"
      ]
    },
    {
      "cell_type": "code",
      "execution_count": null,
      "id": "8ef18dc1",
      "metadata": {
        "id": "8ef18dc1",
        "outputId": "5a7efad1-df42-4568-f547-92ed851ef66e"
      },
      "outputs": [
        {
          "name": "stdout",
          "output_type": "stream",
          "text": [
            "['Raman', 'likes', 'to', 'play', 'football', ',', 'however', 'he', 'is', 'not', 'too', 'fond', 'of', 'cricket', '.']\n",
            "******************************************************************************************************************************************************\n",
            "['Raman', 'likes', 'play', 'football', ',', 'fond', 'cricket', '.']\n"
          ]
        }
      ],
      "source": [
        "doc = nlp('Raman likes to play football, however he is not too fond of cricket.')\n",
        "\n",
        "text_token = []\n",
        "\n",
        "for token in doc:\n",
        "    text_token.append(token.text)\n",
        "    \n",
        "# remove the stop-words\n",
        "token_without_sw = [word for word in text_token if not word in all_stopwords]\n",
        "\n",
        "print(text_token)\n",
        "print(\"***************\"*10)\n",
        "print(token_without_sw)"
      ]
    },
    {
      "cell_type": "code",
      "execution_count": null,
      "id": "d5c4a532",
      "metadata": {
        "id": "d5c4a532"
      },
      "outputs": [],
      "source": []
    },
    {
      "cell_type": "code",
      "execution_count": null,
      "id": "21d76f67",
      "metadata": {
        "id": "21d76f67"
      },
      "outputs": [],
      "source": []
    },
    {
      "cell_type": "code",
      "execution_count": null,
      "id": "0201b370",
      "metadata": {
        "id": "0201b370"
      },
      "outputs": [],
      "source": []
    },
    {
      "cell_type": "code",
      "execution_count": null,
      "id": "1806841e",
      "metadata": {
        "id": "1806841e"
      },
      "outputs": [],
      "source": []
    },
    {
      "cell_type": "code",
      "execution_count": null,
      "id": "cad11086",
      "metadata": {
        "id": "cad11086"
      },
      "outputs": [],
      "source": []
    },
    {
      "cell_type": "code",
      "execution_count": null,
      "id": "28b515b7",
      "metadata": {
        "id": "28b515b7"
      },
      "outputs": [],
      "source": []
    }
  ],
  "metadata": {
    "kernelspec": {
      "display_name": "Python 3 (ipykernel)",
      "language": "python",
      "name": "python3"
    },
    "language_info": {
      "codemirror_mode": {
        "name": "ipython",
        "version": 3
      },
      "file_extension": ".py",
      "mimetype": "text/x-python",
      "name": "python",
      "nbconvert_exporter": "python",
      "pygments_lexer": "ipython3",
      "version": "3.9.13"
    },
    "colab": {
      "provenance": []
    }
  },
  "nbformat": 4,
  "nbformat_minor": 5
}